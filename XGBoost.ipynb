{
 "cells": [
  {
   "cell_type": "markdown",
   "metadata": {},
   "source": [
    "## XGBoost"
   ]
  },
  {
   "cell_type": "code",
   "execution_count": 1,
   "metadata": {},
   "outputs": [],
   "source": [
    "from sklearn import metrics, datasets"
   ]
  },
  {
   "cell_type": "code",
   "execution_count": 2,
   "metadata": {},
   "outputs": [
    {
     "data": {
      "text/plain": [
       "<function sklearn.datasets._samples_generator.make_classification(n_samples=100, n_features=20, *, n_informative=2, n_redundant=2, n_repeated=0, n_classes=2, n_clusters_per_class=2, weights=None, flip_y=0.01, class_sep=1.0, hypercube=True, shift=0.0, scale=1.0, shuffle=True, random_state=None)>"
      ]
     },
     "execution_count": 2,
     "metadata": {},
     "output_type": "execute_result"
    }
   ],
   "source": [
    "datasets.make_classification"
   ]
  },
  {
   "cell_type": "code",
   "execution_count": 3,
   "metadata": {},
   "outputs": [
    {
     "name": "stdout",
     "output_type": "stream",
     "text": [
      "Help on function make_classification in module sklearn.datasets._samples_generator:\n",
      "\n",
      "make_classification(n_samples=100, n_features=20, *, n_informative=2, n_redundant=2, n_repeated=0, n_classes=2, n_clusters_per_class=2, weights=None, flip_y=0.01, class_sep=1.0, hypercube=True, shift=0.0, scale=1.0, shuffle=True, random_state=None)\n",
      "    Generate a random n-class classification problem.\n",
      "    \n",
      "    This initially creates clusters of points normally distributed (std=1)\n",
      "    about vertices of an ``n_informative``-dimensional hypercube with sides of\n",
      "    length ``2*class_sep`` and assigns an equal number of clusters to each\n",
      "    class. It introduces interdependence between these features and adds\n",
      "    various types of further noise to the data.\n",
      "    \n",
      "    Without shuffling, ``X`` horizontally stacks features in the following\n",
      "    order: the primary ``n_informative`` features, followed by ``n_redundant``\n",
      "    linear combinations of the informative features, followed by ``n_repeated``\n",
      "    duplicates, drawn randomly with replacement from the informative and\n",
      "    redundant features. The remaining features are filled with random noise.\n",
      "    Thus, without shuffling, all useful features are contained in the columns\n",
      "    ``X[:, :n_informative + n_redundant + n_repeated]``.\n",
      "    \n",
      "    Read more in the :ref:`User Guide <sample_generators>`.\n",
      "    \n",
      "    Parameters\n",
      "    ----------\n",
      "    n_samples : int, optional (default=100)\n",
      "        The number of samples.\n",
      "    \n",
      "    n_features : int, optional (default=20)\n",
      "        The total number of features. These comprise ``n_informative``\n",
      "        informative features, ``n_redundant`` redundant features,\n",
      "        ``n_repeated`` duplicated features and\n",
      "        ``n_features-n_informative-n_redundant-n_repeated`` useless features\n",
      "        drawn at random.\n",
      "    \n",
      "    n_informative : int, optional (default=2)\n",
      "        The number of informative features. Each class is composed of a number\n",
      "        of gaussian clusters each located around the vertices of a hypercube\n",
      "        in a subspace of dimension ``n_informative``. For each cluster,\n",
      "        informative features are drawn independently from  N(0, 1) and then\n",
      "        randomly linearly combined within each cluster in order to add\n",
      "        covariance. The clusters are then placed on the vertices of the\n",
      "        hypercube.\n",
      "    \n",
      "    n_redundant : int, optional (default=2)\n",
      "        The number of redundant features. These features are generated as\n",
      "        random linear combinations of the informative features.\n",
      "    \n",
      "    n_repeated : int, optional (default=0)\n",
      "        The number of duplicated features, drawn randomly from the informative\n",
      "        and the redundant features.\n",
      "    \n",
      "    n_classes : int, optional (default=2)\n",
      "        The number of classes (or labels) of the classification problem.\n",
      "    \n",
      "    n_clusters_per_class : int, optional (default=2)\n",
      "        The number of clusters per class.\n",
      "    \n",
      "    weights : array-like of shape (n_classes,) or (n_classes - 1,),              (default=None)\n",
      "        The proportions of samples assigned to each class. If None, then\n",
      "        classes are balanced. Note that if ``len(weights) == n_classes - 1``,\n",
      "        then the last class weight is automatically inferred.\n",
      "        More than ``n_samples`` samples may be returned if the sum of\n",
      "        ``weights`` exceeds 1.\n",
      "    \n",
      "    flip_y : float, optional (default=0.01)\n",
      "        The fraction of samples whose class is assigned randomly. Larger\n",
      "        values introduce noise in the labels and make the classification\n",
      "        task harder. Note that the default setting flip_y > 0 might lead\n",
      "        to less than n_classes in y in some cases.\n",
      "    \n",
      "    class_sep : float, optional (default=1.0)\n",
      "        The factor multiplying the hypercube size.  Larger values spread\n",
      "        out the clusters/classes and make the classification task easier.\n",
      "    \n",
      "    hypercube : boolean, optional (default=True)\n",
      "        If True, the clusters are put on the vertices of a hypercube. If\n",
      "        False, the clusters are put on the vertices of a random polytope.\n",
      "    \n",
      "    shift : float, array of shape [n_features] or None, optional (default=0.0)\n",
      "        Shift features by the specified value. If None, then features\n",
      "        are shifted by a random value drawn in [-class_sep, class_sep].\n",
      "    \n",
      "    scale : float, array of shape [n_features] or None, optional (default=1.0)\n",
      "        Multiply features by the specified value. If None, then features\n",
      "        are scaled by a random value drawn in [1, 100]. Note that scaling\n",
      "        happens after shifting.\n",
      "    \n",
      "    shuffle : boolean, optional (default=True)\n",
      "        Shuffle the samples and the features.\n",
      "    \n",
      "    random_state : int, RandomState instance, default=None\n",
      "        Determines random number generation for dataset creation. Pass an int\n",
      "        for reproducible output across multiple function calls.\n",
      "        See :term:`Glossary <random_state>`.\n",
      "    \n",
      "    Returns\n",
      "    -------\n",
      "    X : array of shape [n_samples, n_features]\n",
      "        The generated samples.\n",
      "    \n",
      "    y : array of shape [n_samples]\n",
      "        The integer labels for class membership of each sample.\n",
      "    \n",
      "    Notes\n",
      "    -----\n",
      "    The algorithm is adapted from Guyon [1] and was designed to generate\n",
      "    the \"Madelon\" dataset.\n",
      "    \n",
      "    References\n",
      "    ----------\n",
      "    .. [1] I. Guyon, \"Design of experiments for the NIPS 2003 variable\n",
      "           selection benchmark\", 2003.\n",
      "    \n",
      "    See also\n",
      "    --------\n",
      "    make_blobs: simplified variant\n",
      "    make_multilabel_classification: unrelated generator for multilabel tasks\n",
      "\n"
     ]
    }
   ],
   "source": [
    "help(datasets.make_classification)"
   ]
  },
  {
   "cell_type": "code",
   "execution_count": 4,
   "metadata": {},
   "outputs": [],
   "source": [
    "x, y = datasets.make_classification(10000, n_features=10, n_informative=5, n_redundant=0, n_clusters_per_class=3, class_sep=0.5, random_state=150)"
   ]
  },
  {
   "cell_type": "code",
   "execution_count": 5,
   "metadata": {},
   "outputs": [
    {
     "data": {
      "text/plain": [
       "(10000, 10)"
      ]
     },
     "execution_count": 5,
     "metadata": {},
     "output_type": "execute_result"
    }
   ],
   "source": [
    "x.shape"
   ]
  },
  {
   "cell_type": "code",
   "execution_count": 6,
   "metadata": {},
   "outputs": [],
   "source": [
    "from sklearn.model_selection import train_test_split"
   ]
  },
  {
   "cell_type": "code",
   "execution_count": 7,
   "metadata": {},
   "outputs": [],
   "source": [
    "train, test, y_train, y_test = train_test_split(x, y, random_state=10, test_size=0.25)\n"
   ]
  },
  {
   "cell_type": "code",
   "execution_count": 8,
   "metadata": {},
   "outputs": [
    {
     "data": {
      "text/plain": [
       "(7500, 10)"
      ]
     },
     "execution_count": 8,
     "metadata": {},
     "output_type": "execute_result"
    }
   ],
   "source": [
    "train.shape\n"
   ]
  },
  {
   "cell_type": "code",
   "execution_count": 9,
   "metadata": {},
   "outputs": [
    {
     "data": {
      "text/plain": [
       "(2500, 10)"
      ]
     },
     "execution_count": 9,
     "metadata": {},
     "output_type": "execute_result"
    }
   ],
   "source": [
    "test.shape"
   ]
  },
  {
   "cell_type": "code",
   "execution_count": 10,
   "metadata": {},
   "outputs": [],
   "source": [
    "\n",
    "import xgboost as xgb"
   ]
  },
  {
   "cell_type": "markdown",
   "metadata": {},
   "source": [
    "## General Parameters\n",
    "These define the overall functionality of XGBoost.\n",
    "\n",
    "1. booster [default=gbtree]\n",
    "    - Select the type of model to run at each iteration. It has 2 options:\n",
    "        - gbtree: tree-based models\n",
    "        - gblinear: linear models\n",
    "2. silent [default=0]:\n",
    "    - Silent mode is activated is set to 1, i.e. no running messages will be printed.\n",
    "    - It’s generally good to keep it 0 as the messages might help in understanding the model.\n",
    " \n",
    "\n",
    "## Booster Parameters\n",
    "Though there are 2 types of boosters, I’ll consider only tree booster here because it always outperforms the linear booster and thus the later is rarely used.\n",
    "\n",
    "1. eta [default=0.3]\n",
    "    - Makes the model more robust by shrinking the weights on each step\n",
    "    - Typical final values to be used: 0.01-0.2\n",
    "2. min_child_weight [default=1]\n",
    "    - Defines the minimum sum of weights of all observations required in a child.\n",
    "3. max_depth [default=6]\n",
    "    - Used to control over-fitting as higher depth will allow model to learn relations very specific to a particular sample.\n",
    "    - Should be tuned using CV.\n",
    "    - Typical values: 3-10\n",
    "4. max_leaf_nodes\n",
    "    - The maximum number of terminal nodes or leaves in a tree.\n",
    "    - Can be defined in place of max_depth. Since binary trees are created, a depth of ‘n’ would produce a maximum of 2^n leaves.\n",
    "5. gamma [default=0]\n",
    "    - A node is split only when the resulting split gives a positive reduction in the loss function. Gamma specifies the minimum loss reduction required to make a split.\n",
    "    - Makes the algorithm conservative. The values can vary depending on the loss function and should be tuned.\n",
    "6. max_delta_step [default=0]\n",
    "    - In maximum delta step we allow each tree’s weight estimation to be. If the value is set to 0, it means there is no constraint. If it is set to a positive value, it can help making the update step more conservative.\n",
    "    - Usually this parameter is not needed, but it might help in logistic regression when class is extremely imbalanced.\n",
    "    - This is generally not used but you can explore further if you wish.\n",
    "7. subsample [default=1]\n",
    "    - Same as the subsample of GBM. Denotes the fraction of observations to be randomly samples for each tree.\n",
    "    - Lower values make the algorithm more conservative and prevents overfitting but too small values might lead to under-fitting.\n",
    "    - Typical values: 0.5-1\n",
    "8. colsample_bytree [default=1]\n",
    "    - Similar to max_features in GBM. Denotes the fraction of columns to be randomly samples for each tree.\n",
    "    - Typical values: 0.5-1\n",
    "9. colsample_bylevel [default=1]\n",
    "    - Denotes the subsample ratio of columns for each split, in each level.\n",
    "    - I don’t use this often because subsample and colsample_bytree will do the job for you. but you can explore further if you feel so.\n",
    "10. lambda [default=1]\n",
    "    - L2 regularization term on weights (analogous to Ridge regression)\n",
    "    - This used to handle the regularization part of XGBoost. Though many data scientists don’t use it often, it should be explored to reduce overfitting.\n",
    "11. alpha [default=0]\n",
    "    - L1 regularization term on weight (analogous to Lasso regression)\n",
    "    - Can be used in case of very high dimensionality so that the algorithm runs faster when implemented\n",
    "12. scale_pos_weight [default=1]\n",
    "    - A value greater than 0 should be used in case of high class imbalance as it helps in faster convergence.\n",
    " \n",
    "\n",
    "## Learning Task Parameters\n",
    "These parameters are used to define the optimization objective the metric to be calculated at each step.\n",
    "\n",
    "1. objective [default=reg:linear]\n",
    "    - This defines the loss function to be minimized. Mostly used values are:\n",
    "        - binary:logistic –logistic regression for binary classification, returns predicted probability (not class)\n",
    "        - multi:softmax –multiclass classification using the softmax objective, returns predicted class (not probabilities)\n",
    "            you also need to set an additional num_class (number of classes) parameter defining the number of unique classes\n",
    "        - multi:softprob –same as softmax, but returns predicted probability of each data point belonging to each class.\n",
    "2. eval_metric [ default according to objective ]\n",
    "    - The metric to be used for validation data.\n",
    "    - The default values are rmse for regression and error for classification.\n",
    "    - Typical values are:\n",
    "        - rmse – root mean square error\n",
    "        - mae – mean absolute error\n",
    "        - logloss – negative log-likelihood\n",
    "        - error – Binary classification error rate (0.5 threshold)\n",
    "        - merror – Multiclass classification error rate\n",
    "        - mlogloss – Multiclass logloss\n",
    "        - auc: Area under the curve\n",
    "3. seed [default=0]\n",
    "    - The random number seed.\n",
    "    - Can be used for generating reproducible results and also for parameter tuning."
   ]
  },
  {
   "cell_type": "code",
   "execution_count": 11,
   "metadata": {},
   "outputs": [
    {
     "name": "stdout",
     "output_type": "stream",
     "text": [
      "[0]\ttrain-auc:0.55593\ttest-auc:0.48753\n",
      "[1]\ttrain-auc:0.64252\ttest-auc:0.58759\n",
      "[2]\ttrain-auc:0.64416\ttest-auc:0.59567\n",
      "[3]\ttrain-auc:0.66299\ttest-auc:0.61016\n",
      "[4]\ttrain-auc:0.74745\ttest-auc:0.70718\n",
      "[5]\ttrain-auc:0.77451\ttest-auc:0.73081\n",
      "[6]\ttrain-auc:0.76914\ttest-auc:0.73244\n",
      "[7]\ttrain-auc:0.77888\ttest-auc:0.73552\n",
      "[8]\ttrain-auc:0.78009\ttest-auc:0.73401\n",
      "[9]\ttrain-auc:0.78143\ttest-auc:0.73298\n",
      "[10]\ttrain-auc:0.78055\ttest-auc:0.73599\n",
      "[11]\ttrain-auc:0.79227\ttest-auc:0.74858\n",
      "[12]\ttrain-auc:0.80013\ttest-auc:0.75588\n",
      "[13]\ttrain-auc:0.80082\ttest-auc:0.75512\n",
      "[14]\ttrain-auc:0.80302\ttest-auc:0.75511\n",
      "[15]\ttrain-auc:0.80156\ttest-auc:0.75591\n",
      "[16]\ttrain-auc:0.80294\ttest-auc:0.75958\n",
      "[17]\ttrain-auc:0.80141\ttest-auc:0.75764\n",
      "[18]\ttrain-auc:0.80222\ttest-auc:0.75714\n",
      "[19]\ttrain-auc:0.80279\ttest-auc:0.75781\n",
      "[20]\ttrain-auc:0.80575\ttest-auc:0.76079\n",
      "[21]\ttrain-auc:0.80748\ttest-auc:0.76089\n",
      "[22]\ttrain-auc:0.80698\ttest-auc:0.75984\n",
      "[23]\ttrain-auc:0.80769\ttest-auc:0.76021\n",
      "[24]\ttrain-auc:0.80622\ttest-auc:0.75843\n",
      "[25]\ttrain-auc:0.80771\ttest-auc:0.75901\n",
      "[26]\ttrain-auc:0.80974\ttest-auc:0.76162\n",
      "[27]\ttrain-auc:0.81067\ttest-auc:0.76119\n",
      "[28]\ttrain-auc:0.81410\ttest-auc:0.76518\n",
      "[29]\ttrain-auc:0.81467\ttest-auc:0.76485\n",
      "[30]\ttrain-auc:0.81494\ttest-auc:0.76407\n",
      "[31]\ttrain-auc:0.81457\ttest-auc:0.76287\n",
      "[32]\ttrain-auc:0.81524\ttest-auc:0.76335\n",
      "[33]\ttrain-auc:0.81409\ttest-auc:0.76369\n",
      "[34]\ttrain-auc:0.81283\ttest-auc:0.76211\n",
      "[35]\ttrain-auc:0.81311\ttest-auc:0.76261\n",
      "[36]\ttrain-auc:0.81331\ttest-auc:0.76184\n",
      "[37]\ttrain-auc:0.81358\ttest-auc:0.76261\n",
      "[38]\ttrain-auc:0.81424\ttest-auc:0.76297\n",
      "[39]\ttrain-auc:0.81690\ttest-auc:0.76527\n",
      "[40]\ttrain-auc:0.81744\ttest-auc:0.76614\n",
      "[41]\ttrain-auc:0.81928\ttest-auc:0.76849\n",
      "[42]\ttrain-auc:0.81961\ttest-auc:0.76881\n",
      "[43]\ttrain-auc:0.81907\ttest-auc:0.76854\n",
      "[44]\ttrain-auc:0.81941\ttest-auc:0.76809\n",
      "[45]\ttrain-auc:0.81986\ttest-auc:0.76774\n",
      "[46]\ttrain-auc:0.81907\ttest-auc:0.76736\n",
      "[47]\ttrain-auc:0.82077\ttest-auc:0.76938\n",
      "[48]\ttrain-auc:0.82111\ttest-auc:0.76962\n",
      "[49]\ttrain-auc:0.82094\ttest-auc:0.76941\n",
      "[50]\ttrain-auc:0.82229\ttest-auc:0.77096\n",
      "[51]\ttrain-auc:0.82499\ttest-auc:0.77424\n",
      "[52]\ttrain-auc:0.82701\ttest-auc:0.77759\n",
      "[53]\ttrain-auc:0.82653\ttest-auc:0.77696\n",
      "[54]\ttrain-auc:0.82616\ttest-auc:0.77622\n",
      "[55]\ttrain-auc:0.82583\ttest-auc:0.77591\n",
      "[56]\ttrain-auc:0.82662\ttest-auc:0.77623\n",
      "[57]\ttrain-auc:0.82759\ttest-auc:0.77691\n",
      "[58]\ttrain-auc:0.82751\ttest-auc:0.77662\n",
      "[59]\ttrain-auc:0.82793\ttest-auc:0.77682\n",
      "[60]\ttrain-auc:0.82890\ttest-auc:0.77663\n",
      "[61]\ttrain-auc:0.83092\ttest-auc:0.77973\n",
      "[62]\ttrain-auc:0.83159\ttest-auc:0.77960\n",
      "[63]\ttrain-auc:0.83347\ttest-auc:0.78109\n",
      "[64]\ttrain-auc:0.83407\ttest-auc:0.78196\n",
      "[65]\ttrain-auc:0.83529\ttest-auc:0.78312\n",
      "[66]\ttrain-auc:0.83629\ttest-auc:0.78457\n",
      "[67]\ttrain-auc:0.83586\ttest-auc:0.78386\n",
      "[68]\ttrain-auc:0.83614\ttest-auc:0.78366\n",
      "[69]\ttrain-auc:0.83656\ttest-auc:0.78355\n",
      "[70]\ttrain-auc:0.83683\ttest-auc:0.78368\n",
      "[71]\ttrain-auc:0.83705\ttest-auc:0.78368\n",
      "[72]\ttrain-auc:0.83769\ttest-auc:0.78455\n",
      "[73]\ttrain-auc:0.83747\ttest-auc:0.78436\n",
      "[74]\ttrain-auc:0.83782\ttest-auc:0.78407\n",
      "[75]\ttrain-auc:0.83806\ttest-auc:0.78384\n",
      "[76]\ttrain-auc:0.83781\ttest-auc:0.78392\n",
      "[77]\ttrain-auc:0.83837\ttest-auc:0.78429\n",
      "[78]\ttrain-auc:0.84034\ttest-auc:0.78596\n",
      "[79]\ttrain-auc:0.84027\ttest-auc:0.78571\n",
      "[80]\ttrain-auc:0.84090\ttest-auc:0.78574\n",
      "[81]\ttrain-auc:0.84186\ttest-auc:0.78648\n",
      "[82]\ttrain-auc:0.84265\ttest-auc:0.78718\n",
      "[83]\ttrain-auc:0.84303\ttest-auc:0.78734\n",
      "[84]\ttrain-auc:0.84336\ttest-auc:0.78748\n",
      "[85]\ttrain-auc:0.84321\ttest-auc:0.78745\n",
      "[86]\ttrain-auc:0.84422\ttest-auc:0.78878\n",
      "[87]\ttrain-auc:0.84472\ttest-auc:0.78874\n",
      "[88]\ttrain-auc:0.84497\ttest-auc:0.78849\n",
      "[89]\ttrain-auc:0.84766\ttest-auc:0.79010\n",
      "[90]\ttrain-auc:0.84855\ttest-auc:0.79083\n",
      "[91]\ttrain-auc:0.84884\ttest-auc:0.79105\n",
      "[92]\ttrain-auc:0.84924\ttest-auc:0.79089\n",
      "[93]\ttrain-auc:0.85064\ttest-auc:0.79212\n",
      "[94]\ttrain-auc:0.85127\ttest-auc:0.79246\n",
      "[95]\ttrain-auc:0.85142\ttest-auc:0.79257\n",
      "[96]\ttrain-auc:0.85162\ttest-auc:0.79298\n",
      "[97]\ttrain-auc:0.85338\ttest-auc:0.79388\n",
      "[98]\ttrain-auc:0.85348\ttest-auc:0.79359\n",
      "[99]\ttrain-auc:0.85460\ttest-auc:0.79467\n"
     ]
    }
   ],
   "source": [
    "dtrain = xgb.DMatrix(train, y_train)\n",
    "dtest = xgb.DMatrix(test, y_test)\n",
    "params={\n",
    "          'learning_rate': 0.1,\n",
    "          'colsample_bytree' : 0.3,\n",
    "          'max_depth': 5,\n",
    "          'objective': 'binary:logistic',\n",
    "          'n_estimators':100,\n",
    "          'alpha' : 10,\n",
    "          'silent': True,\n",
    "          'tree_method':'gpu_hist',\n",
    "          'eval_metric':'auc'}\n",
    "## Train the model\n",
    "trained_model = xgb.train(\n",
    "                        params,\n",
    "                        dtrain,\n",
    "                        num_boost_round=100, evals=[(dtrain, 'train'), (dtest, 'test')])\n",
    "\n",
    "## Predict the model\n",
    "prediction = trained_model.predict(dtest)"
   ]
  },
  {
   "cell_type": "code",
   "execution_count": 24,
   "metadata": {},
   "outputs": [
    {
     "data": {
      "text/plain": [
       "XGBClassifier(alpha=10, base_score=0.5, booster=None, colsample_bylevel=1,\n",
       "              colsample_bynode=1, colsample_bytree=0.3, eval_metric='auc',\n",
       "              gamma=0, gpu_id=0, importance_type='gain',\n",
       "              interaction_constraints=None, learning_rate=0.1, max_delta_step=0,\n",
       "              max_depth=5, min_child_weight=1, missing=nan,\n",
       "              monotone_constraints=None, n_estimators=100, n_jobs=0,\n",
       "              num_parallel_tree=1, random_state=0, reg_alpha=10, reg_lambda=1,\n",
       "              scale_pos_weight=1, silent=True, subsample=1,\n",
       "              tree_method='gpu_hist', validate_parameters=1, verbosity=None)"
      ]
     },
     "execution_count": 24,
     "metadata": {},
     "output_type": "execute_result"
    }
   ],
   "source": [
    "\n",
    "from xgboost import XGBClassifier\n",
    "model = XGBClassifier(**params)\n",
    "model.fit(train, y_train)"
   ]
  },
  {
   "cell_type": "code",
   "execution_count": 18,
   "metadata": {},
   "outputs": [
    {
     "data": {
      "text/plain": [
       "numpy.ndarray"
      ]
     },
     "execution_count": 18,
     "metadata": {},
     "output_type": "execute_result"
    }
   ],
   "source": [
    "type(model.predict(test))"
   ]
  },
  {
   "cell_type": "code",
   "execution_count": 23,
   "metadata": {},
   "outputs": [
    {
     "data": {
      "text/plain": [
       "0"
      ]
     },
     "execution_count": 23,
     "metadata": {},
     "output_type": "execute_result"
    }
   ],
   "source": [
    "import matplotlib.pyplot as plt\n"
   ]
  },
  {
   "cell_type": "code",
   "execution_count": 38,
   "metadata": {},
   "outputs": [
    {
     "name": "stdout",
     "output_type": "stream",
     "text": [
      "Fitting 4 folds for each of 36 candidates, totalling 144 fits\n",
      "[CV] alpha=10, colsample_bytree=0.3, eval_metric=auc, learning_rate=0.2, max_depth=5, n_estimators=100, objective=binary:logistic, silent=True, tree_method=gpu_hist \n"
     ]
    },
    {
     "name": "stderr",
     "output_type": "stream",
     "text": [
      "[Parallel(n_jobs=1)]: Using backend SequentialBackend with 1 concurrent workers.\n"
     ]
    },
    {
     "name": "stdout",
     "output_type": "stream",
     "text": [
      "[CV]  alpha=10, colsample_bytree=0.3, eval_metric=auc, learning_rate=0.2, max_depth=5, n_estimators=100, objective=binary:logistic, silent=True, tree_method=gpu_hist, score=0.801, total=   0.5s\n",
      "[CV] alpha=10, colsample_bytree=0.3, eval_metric=auc, learning_rate=0.2, max_depth=5, n_estimators=100, objective=binary:logistic, silent=True, tree_method=gpu_hist \n"
     ]
    },
    {
     "name": "stderr",
     "output_type": "stream",
     "text": [
      "[Parallel(n_jobs=1)]: Done   1 out of   1 | elapsed:    0.5s remaining:    0.0s\n"
     ]
    },
    {
     "name": "stdout",
     "output_type": "stream",
     "text": [
      "[CV]  alpha=10, colsample_bytree=0.3, eval_metric=auc, learning_rate=0.2, max_depth=5, n_estimators=100, objective=binary:logistic, silent=True, tree_method=gpu_hist, score=0.802, total=   0.4s\n",
      "[CV] alpha=10, colsample_bytree=0.3, eval_metric=auc, learning_rate=0.2, max_depth=5, n_estimators=100, objective=binary:logistic, silent=True, tree_method=gpu_hist \n"
     ]
    },
    {
     "name": "stderr",
     "output_type": "stream",
     "text": [
      "[Parallel(n_jobs=1)]: Done   2 out of   2 | elapsed:    0.9s remaining:    0.0s\n"
     ]
    },
    {
     "name": "stdout",
     "output_type": "stream",
     "text": [
      "[CV]  alpha=10, colsample_bytree=0.3, eval_metric=auc, learning_rate=0.2, max_depth=5, n_estimators=100, objective=binary:logistic, silent=True, tree_method=gpu_hist, score=0.799, total=   0.4s\n",
      "[CV] alpha=10, colsample_bytree=0.3, eval_metric=auc, learning_rate=0.2, max_depth=5, n_estimators=100, objective=binary:logistic, silent=True, tree_method=gpu_hist \n",
      "[CV]  alpha=10, colsample_bytree=0.3, eval_metric=auc, learning_rate=0.2, max_depth=5, n_estimators=100, objective=binary:logistic, silent=True, tree_method=gpu_hist, score=0.788, total=   0.4s\n",
      "[CV] alpha=10, colsample_bytree=0.3, eval_metric=auc, learning_rate=0.2, max_depth=5, n_estimators=200, objective=binary:logistic, silent=True, tree_method=gpu_hist \n",
      "[CV]  alpha=10, colsample_bytree=0.3, eval_metric=auc, learning_rate=0.2, max_depth=5, n_estimators=200, objective=binary:logistic, silent=True, tree_method=gpu_hist, score=0.817, total=   0.6s\n",
      "[CV] alpha=10, colsample_bytree=0.3, eval_metric=auc, learning_rate=0.2, max_depth=5, n_estimators=200, objective=binary:logistic, silent=True, tree_method=gpu_hist \n",
      "[CV]  alpha=10, colsample_bytree=0.3, eval_metric=auc, learning_rate=0.2, max_depth=5, n_estimators=200, objective=binary:logistic, silent=True, tree_method=gpu_hist, score=0.818, total=   0.7s\n",
      "[CV] alpha=10, colsample_bytree=0.3, eval_metric=auc, learning_rate=0.2, max_depth=5, n_estimators=200, objective=binary:logistic, silent=True, tree_method=gpu_hist \n",
      "[CV]  alpha=10, colsample_bytree=0.3, eval_metric=auc, learning_rate=0.2, max_depth=5, n_estimators=200, objective=binary:logistic, silent=True, tree_method=gpu_hist, score=0.807, total=   0.6s\n",
      "[CV] alpha=10, colsample_bytree=0.3, eval_metric=auc, learning_rate=0.2, max_depth=5, n_estimators=200, objective=binary:logistic, silent=True, tree_method=gpu_hist \n",
      "[CV]  alpha=10, colsample_bytree=0.3, eval_metric=auc, learning_rate=0.2, max_depth=5, n_estimators=200, objective=binary:logistic, silent=True, tree_method=gpu_hist, score=0.802, total=   0.6s\n",
      "[CV] alpha=10, colsample_bytree=0.3, eval_metric=auc, learning_rate=0.2, max_depth=6, n_estimators=100, objective=binary:logistic, silent=True, tree_method=gpu_hist \n",
      "[CV]  alpha=10, colsample_bytree=0.3, eval_metric=auc, learning_rate=0.2, max_depth=6, n_estimators=100, objective=binary:logistic, silent=True, tree_method=gpu_hist, score=0.799, total=   0.5s\n",
      "[CV] alpha=10, colsample_bytree=0.3, eval_metric=auc, learning_rate=0.2, max_depth=6, n_estimators=100, objective=binary:logistic, silent=True, tree_method=gpu_hist \n",
      "[CV]  alpha=10, colsample_bytree=0.3, eval_metric=auc, learning_rate=0.2, max_depth=6, n_estimators=100, objective=binary:logistic, silent=True, tree_method=gpu_hist, score=0.801, total=   0.5s\n",
      "[CV] alpha=10, colsample_bytree=0.3, eval_metric=auc, learning_rate=0.2, max_depth=6, n_estimators=100, objective=binary:logistic, silent=True, tree_method=gpu_hist \n",
      "[CV]  alpha=10, colsample_bytree=0.3, eval_metric=auc, learning_rate=0.2, max_depth=6, n_estimators=100, objective=binary:logistic, silent=True, tree_method=gpu_hist, score=0.799, total=   0.5s\n",
      "[CV] alpha=10, colsample_bytree=0.3, eval_metric=auc, learning_rate=0.2, max_depth=6, n_estimators=100, objective=binary:logistic, silent=True, tree_method=gpu_hist \n",
      "[CV]  alpha=10, colsample_bytree=0.3, eval_metric=auc, learning_rate=0.2, max_depth=6, n_estimators=100, objective=binary:logistic, silent=True, tree_method=gpu_hist, score=0.795, total=   0.5s\n",
      "[CV] alpha=10, colsample_bytree=0.3, eval_metric=auc, learning_rate=0.2, max_depth=6, n_estimators=200, objective=binary:logistic, silent=True, tree_method=gpu_hist \n",
      "[CV]  alpha=10, colsample_bytree=0.3, eval_metric=auc, learning_rate=0.2, max_depth=6, n_estimators=200, objective=binary:logistic, silent=True, tree_method=gpu_hist, score=0.819, total=   0.7s\n",
      "[CV] alpha=10, colsample_bytree=0.3, eval_metric=auc, learning_rate=0.2, max_depth=6, n_estimators=200, objective=binary:logistic, silent=True, tree_method=gpu_hist \n",
      "[CV]  alpha=10, colsample_bytree=0.3, eval_metric=auc, learning_rate=0.2, max_depth=6, n_estimators=200, objective=binary:logistic, silent=True, tree_method=gpu_hist, score=0.814, total=   0.7s\n",
      "[CV] alpha=10, colsample_bytree=0.3, eval_metric=auc, learning_rate=0.2, max_depth=6, n_estimators=200, objective=binary:logistic, silent=True, tree_method=gpu_hist \n",
      "[CV]  alpha=10, colsample_bytree=0.3, eval_metric=auc, learning_rate=0.2, max_depth=6, n_estimators=200, objective=binary:logistic, silent=True, tree_method=gpu_hist, score=0.812, total=   0.7s\n",
      "[CV] alpha=10, colsample_bytree=0.3, eval_metric=auc, learning_rate=0.2, max_depth=6, n_estimators=200, objective=binary:logistic, silent=True, tree_method=gpu_hist \n",
      "[CV]  alpha=10, colsample_bytree=0.3, eval_metric=auc, learning_rate=0.2, max_depth=6, n_estimators=200, objective=binary:logistic, silent=True, tree_method=gpu_hist, score=0.814, total=   0.7s\n",
      "[CV] alpha=10, colsample_bytree=0.3, eval_metric=auc, learning_rate=0.2, max_depth=7, n_estimators=100, objective=binary:logistic, silent=True, tree_method=gpu_hist \n",
      "[CV]  alpha=10, colsample_bytree=0.3, eval_metric=auc, learning_rate=0.2, max_depth=7, n_estimators=100, objective=binary:logistic, silent=True, tree_method=gpu_hist, score=0.806, total=   0.5s\n",
      "[CV] alpha=10, colsample_bytree=0.3, eval_metric=auc, learning_rate=0.2, max_depth=7, n_estimators=100, objective=binary:logistic, silent=True, tree_method=gpu_hist \n",
      "[CV]  alpha=10, colsample_bytree=0.3, eval_metric=auc, learning_rate=0.2, max_depth=7, n_estimators=100, objective=binary:logistic, silent=True, tree_method=gpu_hist, score=0.805, total=   0.5s\n",
      "[CV] alpha=10, colsample_bytree=0.3, eval_metric=auc, learning_rate=0.2, max_depth=7, n_estimators=100, objective=binary:logistic, silent=True, tree_method=gpu_hist \n",
      "[CV]  alpha=10, colsample_bytree=0.3, eval_metric=auc, learning_rate=0.2, max_depth=7, n_estimators=100, objective=binary:logistic, silent=True, tree_method=gpu_hist, score=0.803, total=   0.6s\n",
      "[CV] alpha=10, colsample_bytree=0.3, eval_metric=auc, learning_rate=0.2, max_depth=7, n_estimators=100, objective=binary:logistic, silent=True, tree_method=gpu_hist \n",
      "[CV]  alpha=10, colsample_bytree=0.3, eval_metric=auc, learning_rate=0.2, max_depth=7, n_estimators=100, objective=binary:logistic, silent=True, tree_method=gpu_hist, score=0.792, total=   0.5s\n",
      "[CV] alpha=10, colsample_bytree=0.3, eval_metric=auc, learning_rate=0.2, max_depth=7, n_estimators=200, objective=binary:logistic, silent=True, tree_method=gpu_hist \n",
      "[CV]  alpha=10, colsample_bytree=0.3, eval_metric=auc, learning_rate=0.2, max_depth=7, n_estimators=200, objective=binary:logistic, silent=True, tree_method=gpu_hist, score=0.819, total=   0.8s\n",
      "[CV] alpha=10, colsample_bytree=0.3, eval_metric=auc, learning_rate=0.2, max_depth=7, n_estimators=200, objective=binary:logistic, silent=True, tree_method=gpu_hist \n",
      "[CV]  alpha=10, colsample_bytree=0.3, eval_metric=auc, learning_rate=0.2, max_depth=7, n_estimators=200, objective=binary:logistic, silent=True, tree_method=gpu_hist, score=0.820, total=   0.8s\n",
      "[CV] alpha=10, colsample_bytree=0.3, eval_metric=auc, learning_rate=0.2, max_depth=7, n_estimators=200, objective=binary:logistic, silent=True, tree_method=gpu_hist \n",
      "[CV]  alpha=10, colsample_bytree=0.3, eval_metric=auc, learning_rate=0.2, max_depth=7, n_estimators=200, objective=binary:logistic, silent=True, tree_method=gpu_hist, score=0.811, total=   0.8s\n",
      "[CV] alpha=10, colsample_bytree=0.3, eval_metric=auc, learning_rate=0.2, max_depth=7, n_estimators=200, objective=binary:logistic, silent=True, tree_method=gpu_hist \n",
      "[CV]  alpha=10, colsample_bytree=0.3, eval_metric=auc, learning_rate=0.2, max_depth=7, n_estimators=200, objective=binary:logistic, silent=True, tree_method=gpu_hist, score=0.814, total=   0.8s\n",
      "[CV] alpha=10, colsample_bytree=0.3, eval_metric=auc, learning_rate=0.3, max_depth=5, n_estimators=100, objective=binary:logistic, silent=True, tree_method=gpu_hist \n",
      "[CV]  alpha=10, colsample_bytree=0.3, eval_metric=auc, learning_rate=0.3, max_depth=5, n_estimators=100, objective=binary:logistic, silent=True, tree_method=gpu_hist, score=0.802, total=   0.4s\n",
      "[CV] alpha=10, colsample_bytree=0.3, eval_metric=auc, learning_rate=0.3, max_depth=5, n_estimators=100, objective=binary:logistic, silent=True, tree_method=gpu_hist \n",
      "[CV]  alpha=10, colsample_bytree=0.3, eval_metric=auc, learning_rate=0.3, max_depth=5, n_estimators=100, objective=binary:logistic, silent=True, tree_method=gpu_hist, score=0.802, total=   0.4s\n",
      "[CV] alpha=10, colsample_bytree=0.3, eval_metric=auc, learning_rate=0.3, max_depth=5, n_estimators=100, objective=binary:logistic, silent=True, tree_method=gpu_hist \n",
      "[CV]  alpha=10, colsample_bytree=0.3, eval_metric=auc, learning_rate=0.3, max_depth=5, n_estimators=100, objective=binary:logistic, silent=True, tree_method=gpu_hist, score=0.799, total=   0.4s\n",
      "[CV] alpha=10, colsample_bytree=0.3, eval_metric=auc, learning_rate=0.3, max_depth=5, n_estimators=100, objective=binary:logistic, silent=True, tree_method=gpu_hist \n",
      "[CV]  alpha=10, colsample_bytree=0.3, eval_metric=auc, learning_rate=0.3, max_depth=5, n_estimators=100, objective=binary:logistic, silent=True, tree_method=gpu_hist, score=0.798, total=   0.4s\n",
      "[CV] alpha=10, colsample_bytree=0.3, eval_metric=auc, learning_rate=0.3, max_depth=5, n_estimators=200, objective=binary:logistic, silent=True, tree_method=gpu_hist \n",
      "[CV]  alpha=10, colsample_bytree=0.3, eval_metric=auc, learning_rate=0.3, max_depth=5, n_estimators=200, objective=binary:logistic, silent=True, tree_method=gpu_hist, score=0.808, total=   0.6s\n",
      "[CV] alpha=10, colsample_bytree=0.3, eval_metric=auc, learning_rate=0.3, max_depth=5, n_estimators=200, objective=binary:logistic, silent=True, tree_method=gpu_hist \n",
      "[CV]  alpha=10, colsample_bytree=0.3, eval_metric=auc, learning_rate=0.3, max_depth=5, n_estimators=200, objective=binary:logistic, silent=True, tree_method=gpu_hist, score=0.802, total=   0.6s\n",
      "[CV] alpha=10, colsample_bytree=0.3, eval_metric=auc, learning_rate=0.3, max_depth=5, n_estimators=200, objective=binary:logistic, silent=True, tree_method=gpu_hist \n",
      "[CV]  alpha=10, colsample_bytree=0.3, eval_metric=auc, learning_rate=0.3, max_depth=5, n_estimators=200, objective=binary:logistic, silent=True, tree_method=gpu_hist, score=0.802, total=   0.6s\n",
      "[CV] alpha=10, colsample_bytree=0.3, eval_metric=auc, learning_rate=0.3, max_depth=5, n_estimators=200, objective=binary:logistic, silent=True, tree_method=gpu_hist \n",
      "[CV]  alpha=10, colsample_bytree=0.3, eval_metric=auc, learning_rate=0.3, max_depth=5, n_estimators=200, objective=binary:logistic, silent=True, tree_method=gpu_hist, score=0.798, total=   0.6s\n",
      "[CV] alpha=10, colsample_bytree=0.3, eval_metric=auc, learning_rate=0.3, max_depth=6, n_estimators=100, objective=binary:logistic, silent=True, tree_method=gpu_hist \n",
      "[CV]  alpha=10, colsample_bytree=0.3, eval_metric=auc, learning_rate=0.3, max_depth=6, n_estimators=100, objective=binary:logistic, silent=True, tree_method=gpu_hist, score=0.806, total=   0.4s\n",
      "[CV] alpha=10, colsample_bytree=0.3, eval_metric=auc, learning_rate=0.3, max_depth=6, n_estimators=100, objective=binary:logistic, silent=True, tree_method=gpu_hist \n",
      "[CV]  alpha=10, colsample_bytree=0.3, eval_metric=auc, learning_rate=0.3, max_depth=6, n_estimators=100, objective=binary:logistic, silent=True, tree_method=gpu_hist, score=0.806, total=   0.5s\n",
      "[CV] alpha=10, colsample_bytree=0.3, eval_metric=auc, learning_rate=0.3, max_depth=6, n_estimators=100, objective=binary:logistic, silent=True, tree_method=gpu_hist \n",
      "[CV]  alpha=10, colsample_bytree=0.3, eval_metric=auc, learning_rate=0.3, max_depth=6, n_estimators=100, objective=binary:logistic, silent=True, tree_method=gpu_hist, score=0.802, total=   0.5s\n",
      "[CV] alpha=10, colsample_bytree=0.3, eval_metric=auc, learning_rate=0.3, max_depth=6, n_estimators=100, objective=binary:logistic, silent=True, tree_method=gpu_hist \n",
      "[CV]  alpha=10, colsample_bytree=0.3, eval_metric=auc, learning_rate=0.3, max_depth=6, n_estimators=100, objective=binary:logistic, silent=True, tree_method=gpu_hist, score=0.798, total=   0.4s\n",
      "[CV] alpha=10, colsample_bytree=0.3, eval_metric=auc, learning_rate=0.3, max_depth=6, n_estimators=200, objective=binary:logistic, silent=True, tree_method=gpu_hist \n",
      "[CV]  alpha=10, colsample_bytree=0.3, eval_metric=auc, learning_rate=0.3, max_depth=6, n_estimators=200, objective=binary:logistic, silent=True, tree_method=gpu_hist, score=0.805, total=   0.6s\n",
      "[CV] alpha=10, colsample_bytree=0.3, eval_metric=auc, learning_rate=0.3, max_depth=6, n_estimators=200, objective=binary:logistic, silent=True, tree_method=gpu_hist \n",
      "[CV]  alpha=10, colsample_bytree=0.3, eval_metric=auc, learning_rate=0.3, max_depth=6, n_estimators=200, objective=binary:logistic, silent=True, tree_method=gpu_hist, score=0.807, total=   0.7s\n",
      "[CV] alpha=10, colsample_bytree=0.3, eval_metric=auc, learning_rate=0.3, max_depth=6, n_estimators=200, objective=binary:logistic, silent=True, tree_method=gpu_hist \n",
      "[CV]  alpha=10, colsample_bytree=0.3, eval_metric=auc, learning_rate=0.3, max_depth=6, n_estimators=200, objective=binary:logistic, silent=True, tree_method=gpu_hist, score=0.802, total=   0.7s\n",
      "[CV] alpha=10, colsample_bytree=0.3, eval_metric=auc, learning_rate=0.3, max_depth=6, n_estimators=200, objective=binary:logistic, silent=True, tree_method=gpu_hist \n",
      "[CV]  alpha=10, colsample_bytree=0.3, eval_metric=auc, learning_rate=0.3, max_depth=6, n_estimators=200, objective=binary:logistic, silent=True, tree_method=gpu_hist, score=0.815, total=   0.7s\n",
      "[CV] alpha=10, colsample_bytree=0.3, eval_metric=auc, learning_rate=0.3, max_depth=7, n_estimators=100, objective=binary:logistic, silent=True, tree_method=gpu_hist \n",
      "[CV]  alpha=10, colsample_bytree=0.3, eval_metric=auc, learning_rate=0.3, max_depth=7, n_estimators=100, objective=binary:logistic, silent=True, tree_method=gpu_hist, score=0.809, total=   0.5s\n",
      "[CV] alpha=10, colsample_bytree=0.3, eval_metric=auc, learning_rate=0.3, max_depth=7, n_estimators=100, objective=binary:logistic, silent=True, tree_method=gpu_hist \n",
      "[CV]  alpha=10, colsample_bytree=0.3, eval_metric=auc, learning_rate=0.3, max_depth=7, n_estimators=100, objective=binary:logistic, silent=True, tree_method=gpu_hist, score=0.805, total=   0.5s\n",
      "[CV] alpha=10, colsample_bytree=0.3, eval_metric=auc, learning_rate=0.3, max_depth=7, n_estimators=100, objective=binary:logistic, silent=True, tree_method=gpu_hist \n",
      "[CV]  alpha=10, colsample_bytree=0.3, eval_metric=auc, learning_rate=0.3, max_depth=7, n_estimators=100, objective=binary:logistic, silent=True, tree_method=gpu_hist, score=0.801, total=   0.5s\n",
      "[CV] alpha=10, colsample_bytree=0.3, eval_metric=auc, learning_rate=0.3, max_depth=7, n_estimators=100, objective=binary:logistic, silent=True, tree_method=gpu_hist \n",
      "[CV]  alpha=10, colsample_bytree=0.3, eval_metric=auc, learning_rate=0.3, max_depth=7, n_estimators=100, objective=binary:logistic, silent=True, tree_method=gpu_hist, score=0.801, total=   0.5s\n",
      "[CV] alpha=10, colsample_bytree=0.3, eval_metric=auc, learning_rate=0.3, max_depth=7, n_estimators=200, objective=binary:logistic, silent=True, tree_method=gpu_hist \n",
      "[CV]  alpha=10, colsample_bytree=0.3, eval_metric=auc, learning_rate=0.3, max_depth=7, n_estimators=200, objective=binary:logistic, silent=True, tree_method=gpu_hist, score=0.809, total=   0.7s\n",
      "[CV] alpha=10, colsample_bytree=0.3, eval_metric=auc, learning_rate=0.3, max_depth=7, n_estimators=200, objective=binary:logistic, silent=True, tree_method=gpu_hist \n",
      "[CV]  alpha=10, colsample_bytree=0.3, eval_metric=auc, learning_rate=0.3, max_depth=7, n_estimators=200, objective=binary:logistic, silent=True, tree_method=gpu_hist, score=0.805, total=   0.6s\n",
      "[CV] alpha=10, colsample_bytree=0.3, eval_metric=auc, learning_rate=0.3, max_depth=7, n_estimators=200, objective=binary:logistic, silent=True, tree_method=gpu_hist \n",
      "[CV]  alpha=10, colsample_bytree=0.3, eval_metric=auc, learning_rate=0.3, max_depth=7, n_estimators=200, objective=binary:logistic, silent=True, tree_method=gpu_hist, score=0.801, total=   0.7s\n",
      "[CV] alpha=10, colsample_bytree=0.3, eval_metric=auc, learning_rate=0.3, max_depth=7, n_estimators=200, objective=binary:logistic, silent=True, tree_method=gpu_hist \n",
      "[CV]  alpha=10, colsample_bytree=0.3, eval_metric=auc, learning_rate=0.3, max_depth=7, n_estimators=200, objective=binary:logistic, silent=True, tree_method=gpu_hist, score=0.801, total=   0.7s\n",
      "[CV] alpha=10, colsample_bytree=0.3, eval_metric=auc, learning_rate=0.4, max_depth=5, n_estimators=100, objective=binary:logistic, silent=True, tree_method=gpu_hist \n",
      "[CV]  alpha=10, colsample_bytree=0.3, eval_metric=auc, learning_rate=0.4, max_depth=5, n_estimators=100, objective=binary:logistic, silent=True, tree_method=gpu_hist, score=0.808, total=   0.4s\n",
      "[CV] alpha=10, colsample_bytree=0.3, eval_metric=auc, learning_rate=0.4, max_depth=5, n_estimators=100, objective=binary:logistic, silent=True, tree_method=gpu_hist \n",
      "[CV]  alpha=10, colsample_bytree=0.3, eval_metric=auc, learning_rate=0.4, max_depth=5, n_estimators=100, objective=binary:logistic, silent=True, tree_method=gpu_hist, score=0.809, total=   0.4s\n",
      "[CV] alpha=10, colsample_bytree=0.3, eval_metric=auc, learning_rate=0.4, max_depth=5, n_estimators=100, objective=binary:logistic, silent=True, tree_method=gpu_hist \n",
      "[CV]  alpha=10, colsample_bytree=0.3, eval_metric=auc, learning_rate=0.4, max_depth=5, n_estimators=100, objective=binary:logistic, silent=True, tree_method=gpu_hist, score=0.803, total=   0.4s\n",
      "[CV] alpha=10, colsample_bytree=0.3, eval_metric=auc, learning_rate=0.4, max_depth=5, n_estimators=100, objective=binary:logistic, silent=True, tree_method=gpu_hist \n",
      "[CV]  alpha=10, colsample_bytree=0.3, eval_metric=auc, learning_rate=0.4, max_depth=5, n_estimators=100, objective=binary:logistic, silent=True, tree_method=gpu_hist, score=0.801, total=   0.4s\n",
      "[CV] alpha=10, colsample_bytree=0.3, eval_metric=auc, learning_rate=0.4, max_depth=5, n_estimators=200, objective=binary:logistic, silent=True, tree_method=gpu_hist \n",
      "[CV]  alpha=10, colsample_bytree=0.3, eval_metric=auc, learning_rate=0.4, max_depth=5, n_estimators=200, objective=binary:logistic, silent=True, tree_method=gpu_hist, score=0.808, total=   0.6s\n",
      "[CV] alpha=10, colsample_bytree=0.3, eval_metric=auc, learning_rate=0.4, max_depth=5, n_estimators=200, objective=binary:logistic, silent=True, tree_method=gpu_hist \n",
      "[CV]  alpha=10, colsample_bytree=0.3, eval_metric=auc, learning_rate=0.4, max_depth=5, n_estimators=200, objective=binary:logistic, silent=True, tree_method=gpu_hist, score=0.809, total=   0.6s\n",
      "[CV] alpha=10, colsample_bytree=0.3, eval_metric=auc, learning_rate=0.4, max_depth=5, n_estimators=200, objective=binary:logistic, silent=True, tree_method=gpu_hist \n",
      "[CV]  alpha=10, colsample_bytree=0.3, eval_metric=auc, learning_rate=0.4, max_depth=5, n_estimators=200, objective=binary:logistic, silent=True, tree_method=gpu_hist, score=0.803, total=   0.5s\n",
      "[CV] alpha=10, colsample_bytree=0.3, eval_metric=auc, learning_rate=0.4, max_depth=5, n_estimators=200, objective=binary:logistic, silent=True, tree_method=gpu_hist \n",
      "[CV]  alpha=10, colsample_bytree=0.3, eval_metric=auc, learning_rate=0.4, max_depth=5, n_estimators=200, objective=binary:logistic, silent=True, tree_method=gpu_hist, score=0.804, total=   0.6s\n",
      "[CV] alpha=10, colsample_bytree=0.3, eval_metric=auc, learning_rate=0.4, max_depth=6, n_estimators=100, objective=binary:logistic, silent=True, tree_method=gpu_hist \n",
      "[CV]  alpha=10, colsample_bytree=0.3, eval_metric=auc, learning_rate=0.4, max_depth=6, n_estimators=100, objective=binary:logistic, silent=True, tree_method=gpu_hist, score=0.813, total=   0.4s\n",
      "[CV] alpha=10, colsample_bytree=0.3, eval_metric=auc, learning_rate=0.4, max_depth=6, n_estimators=100, objective=binary:logistic, silent=True, tree_method=gpu_hist \n",
      "[CV]  alpha=10, colsample_bytree=0.3, eval_metric=auc, learning_rate=0.4, max_depth=6, n_estimators=100, objective=binary:logistic, silent=True, tree_method=gpu_hist, score=0.812, total=   0.4s\n",
      "[CV] alpha=10, colsample_bytree=0.3, eval_metric=auc, learning_rate=0.4, max_depth=6, n_estimators=100, objective=binary:logistic, silent=True, tree_method=gpu_hist \n",
      "[CV]  alpha=10, colsample_bytree=0.3, eval_metric=auc, learning_rate=0.4, max_depth=6, n_estimators=100, objective=binary:logistic, silent=True, tree_method=gpu_hist, score=0.802, total=   0.4s\n",
      "[CV] alpha=10, colsample_bytree=0.3, eval_metric=auc, learning_rate=0.4, max_depth=6, n_estimators=100, objective=binary:logistic, silent=True, tree_method=gpu_hist \n",
      "[CV]  alpha=10, colsample_bytree=0.3, eval_metric=auc, learning_rate=0.4, max_depth=6, n_estimators=100, objective=binary:logistic, silent=True, tree_method=gpu_hist, score=0.801, total=   0.4s\n",
      "[CV] alpha=10, colsample_bytree=0.3, eval_metric=auc, learning_rate=0.4, max_depth=6, n_estimators=200, objective=binary:logistic, silent=True, tree_method=gpu_hist \n",
      "[CV]  alpha=10, colsample_bytree=0.3, eval_metric=auc, learning_rate=0.4, max_depth=6, n_estimators=200, objective=binary:logistic, silent=True, tree_method=gpu_hist, score=0.813, total=   0.6s\n",
      "[CV] alpha=10, colsample_bytree=0.3, eval_metric=auc, learning_rate=0.4, max_depth=6, n_estimators=200, objective=binary:logistic, silent=True, tree_method=gpu_hist \n",
      "[CV]  alpha=10, colsample_bytree=0.3, eval_metric=auc, learning_rate=0.4, max_depth=6, n_estimators=200, objective=binary:logistic, silent=True, tree_method=gpu_hist, score=0.812, total=   0.6s\n",
      "[CV] alpha=10, colsample_bytree=0.3, eval_metric=auc, learning_rate=0.4, max_depth=6, n_estimators=200, objective=binary:logistic, silent=True, tree_method=gpu_hist \n",
      "[CV]  alpha=10, colsample_bytree=0.3, eval_metric=auc, learning_rate=0.4, max_depth=6, n_estimators=200, objective=binary:logistic, silent=True, tree_method=gpu_hist, score=0.806, total=   0.6s\n",
      "[CV] alpha=10, colsample_bytree=0.3, eval_metric=auc, learning_rate=0.4, max_depth=6, n_estimators=200, objective=binary:logistic, silent=True, tree_method=gpu_hist \n",
      "[CV]  alpha=10, colsample_bytree=0.3, eval_metric=auc, learning_rate=0.4, max_depth=6, n_estimators=200, objective=binary:logistic, silent=True, tree_method=gpu_hist, score=0.801, total=   0.6s\n",
      "[CV] alpha=10, colsample_bytree=0.3, eval_metric=auc, learning_rate=0.4, max_depth=7, n_estimators=100, objective=binary:logistic, silent=True, tree_method=gpu_hist \n",
      "[CV]  alpha=10, colsample_bytree=0.3, eval_metric=auc, learning_rate=0.4, max_depth=7, n_estimators=100, objective=binary:logistic, silent=True, tree_method=gpu_hist, score=0.808, total=   0.5s\n",
      "[CV] alpha=10, colsample_bytree=0.3, eval_metric=auc, learning_rate=0.4, max_depth=7, n_estimators=100, objective=binary:logistic, silent=True, tree_method=gpu_hist \n",
      "[CV]  alpha=10, colsample_bytree=0.3, eval_metric=auc, learning_rate=0.4, max_depth=7, n_estimators=100, objective=binary:logistic, silent=True, tree_method=gpu_hist, score=0.801, total=   0.4s\n",
      "[CV] alpha=10, colsample_bytree=0.3, eval_metric=auc, learning_rate=0.4, max_depth=7, n_estimators=100, objective=binary:logistic, silent=True, tree_method=gpu_hist \n",
      "[CV]  alpha=10, colsample_bytree=0.3, eval_metric=auc, learning_rate=0.4, max_depth=7, n_estimators=100, objective=binary:logistic, silent=True, tree_method=gpu_hist, score=0.802, total=   0.5s\n",
      "[CV] alpha=10, colsample_bytree=0.3, eval_metric=auc, learning_rate=0.4, max_depth=7, n_estimators=100, objective=binary:logistic, silent=True, tree_method=gpu_hist \n",
      "[CV]  alpha=10, colsample_bytree=0.3, eval_metric=auc, learning_rate=0.4, max_depth=7, n_estimators=100, objective=binary:logistic, silent=True, tree_method=gpu_hist, score=0.800, total=   0.4s\n",
      "[CV] alpha=10, colsample_bytree=0.3, eval_metric=auc, learning_rate=0.4, max_depth=7, n_estimators=200, objective=binary:logistic, silent=True, tree_method=gpu_hist \n",
      "[CV]  alpha=10, colsample_bytree=0.3, eval_metric=auc, learning_rate=0.4, max_depth=7, n_estimators=200, objective=binary:logistic, silent=True, tree_method=gpu_hist, score=0.808, total=   0.7s\n",
      "[CV] alpha=10, colsample_bytree=0.3, eval_metric=auc, learning_rate=0.4, max_depth=7, n_estimators=200, objective=binary:logistic, silent=True, tree_method=gpu_hist \n",
      "[CV]  alpha=10, colsample_bytree=0.3, eval_metric=auc, learning_rate=0.4, max_depth=7, n_estimators=200, objective=binary:logistic, silent=True, tree_method=gpu_hist, score=0.801, total=   0.6s\n",
      "[CV] alpha=10, colsample_bytree=0.3, eval_metric=auc, learning_rate=0.4, max_depth=7, n_estimators=200, objective=binary:logistic, silent=True, tree_method=gpu_hist \n",
      "[CV]  alpha=10, colsample_bytree=0.3, eval_metric=auc, learning_rate=0.4, max_depth=7, n_estimators=200, objective=binary:logistic, silent=True, tree_method=gpu_hist, score=0.802, total=   0.7s\n",
      "[CV] alpha=10, colsample_bytree=0.3, eval_metric=auc, learning_rate=0.4, max_depth=7, n_estimators=200, objective=binary:logistic, silent=True, tree_method=gpu_hist \n",
      "[CV]  alpha=10, colsample_bytree=0.3, eval_metric=auc, learning_rate=0.4, max_depth=7, n_estimators=200, objective=binary:logistic, silent=True, tree_method=gpu_hist, score=0.800, total=   0.7s\n",
      "[CV] alpha=20, colsample_bytree=0.3, eval_metric=auc, learning_rate=0.2, max_depth=5, n_estimators=100, objective=binary:logistic, silent=True, tree_method=gpu_hist \n",
      "[CV]  alpha=20, colsample_bytree=0.3, eval_metric=auc, learning_rate=0.2, max_depth=5, n_estimators=100, objective=binary:logistic, silent=True, tree_method=gpu_hist, score=0.780, total=   0.3s\n",
      "[CV] alpha=20, colsample_bytree=0.3, eval_metric=auc, learning_rate=0.2, max_depth=5, n_estimators=100, objective=binary:logistic, silent=True, tree_method=gpu_hist \n",
      "[CV]  alpha=20, colsample_bytree=0.3, eval_metric=auc, learning_rate=0.2, max_depth=5, n_estimators=100, objective=binary:logistic, silent=True, tree_method=gpu_hist, score=0.791, total=   0.3s\n",
      "[CV] alpha=20, colsample_bytree=0.3, eval_metric=auc, learning_rate=0.2, max_depth=5, n_estimators=100, objective=binary:logistic, silent=True, tree_method=gpu_hist \n",
      "[CV]  alpha=20, colsample_bytree=0.3, eval_metric=auc, learning_rate=0.2, max_depth=5, n_estimators=100, objective=binary:logistic, silent=True, tree_method=gpu_hist, score=0.791, total=   0.3s\n",
      "[CV] alpha=20, colsample_bytree=0.3, eval_metric=auc, learning_rate=0.2, max_depth=5, n_estimators=100, objective=binary:logistic, silent=True, tree_method=gpu_hist \n",
      "[CV]  alpha=20, colsample_bytree=0.3, eval_metric=auc, learning_rate=0.2, max_depth=5, n_estimators=100, objective=binary:logistic, silent=True, tree_method=gpu_hist, score=0.776, total=   0.3s\n",
      "[CV] alpha=20, colsample_bytree=0.3, eval_metric=auc, learning_rate=0.2, max_depth=5, n_estimators=200, objective=binary:logistic, silent=True, tree_method=gpu_hist \n",
      "[CV]  alpha=20, colsample_bytree=0.3, eval_metric=auc, learning_rate=0.2, max_depth=5, n_estimators=200, objective=binary:logistic, silent=True, tree_method=gpu_hist, score=0.780, total=   0.5s\n",
      "[CV] alpha=20, colsample_bytree=0.3, eval_metric=auc, learning_rate=0.2, max_depth=5, n_estimators=200, objective=binary:logistic, silent=True, tree_method=gpu_hist \n",
      "[CV]  alpha=20, colsample_bytree=0.3, eval_metric=auc, learning_rate=0.2, max_depth=5, n_estimators=200, objective=binary:logistic, silent=True, tree_method=gpu_hist, score=0.791, total=   0.6s\n",
      "[CV] alpha=20, colsample_bytree=0.3, eval_metric=auc, learning_rate=0.2, max_depth=5, n_estimators=200, objective=binary:logistic, silent=True, tree_method=gpu_hist \n",
      "[CV]  alpha=20, colsample_bytree=0.3, eval_metric=auc, learning_rate=0.2, max_depth=5, n_estimators=200, objective=binary:logistic, silent=True, tree_method=gpu_hist, score=0.791, total=   0.6s\n",
      "[CV] alpha=20, colsample_bytree=0.3, eval_metric=auc, learning_rate=0.2, max_depth=5, n_estimators=200, objective=binary:logistic, silent=True, tree_method=gpu_hist \n",
      "[CV]  alpha=20, colsample_bytree=0.3, eval_metric=auc, learning_rate=0.2, max_depth=5, n_estimators=200, objective=binary:logistic, silent=True, tree_method=gpu_hist, score=0.776, total=   0.5s\n",
      "[CV] alpha=20, colsample_bytree=0.3, eval_metric=auc, learning_rate=0.2, max_depth=6, n_estimators=100, objective=binary:logistic, silent=True, tree_method=gpu_hist \n",
      "[CV]  alpha=20, colsample_bytree=0.3, eval_metric=auc, learning_rate=0.2, max_depth=6, n_estimators=100, objective=binary:logistic, silent=True, tree_method=gpu_hist, score=0.783, total=   0.4s\n",
      "[CV] alpha=20, colsample_bytree=0.3, eval_metric=auc, learning_rate=0.2, max_depth=6, n_estimators=100, objective=binary:logistic, silent=True, tree_method=gpu_hist \n",
      "[CV]  alpha=20, colsample_bytree=0.3, eval_metric=auc, learning_rate=0.2, max_depth=6, n_estimators=100, objective=binary:logistic, silent=True, tree_method=gpu_hist, score=0.794, total=   0.4s\n",
      "[CV] alpha=20, colsample_bytree=0.3, eval_metric=auc, learning_rate=0.2, max_depth=6, n_estimators=100, objective=binary:logistic, silent=True, tree_method=gpu_hist \n",
      "[CV]  alpha=20, colsample_bytree=0.3, eval_metric=auc, learning_rate=0.2, max_depth=6, n_estimators=100, objective=binary:logistic, silent=True, tree_method=gpu_hist, score=0.791, total=   0.4s\n",
      "[CV] alpha=20, colsample_bytree=0.3, eval_metric=auc, learning_rate=0.2, max_depth=6, n_estimators=100, objective=binary:logistic, silent=True, tree_method=gpu_hist \n",
      "[CV]  alpha=20, colsample_bytree=0.3, eval_metric=auc, learning_rate=0.2, max_depth=6, n_estimators=100, objective=binary:logistic, silent=True, tree_method=gpu_hist, score=0.782, total=   0.4s\n",
      "[CV] alpha=20, colsample_bytree=0.3, eval_metric=auc, learning_rate=0.2, max_depth=6, n_estimators=200, objective=binary:logistic, silent=True, tree_method=gpu_hist \n",
      "[CV]  alpha=20, colsample_bytree=0.3, eval_metric=auc, learning_rate=0.2, max_depth=6, n_estimators=200, objective=binary:logistic, silent=True, tree_method=gpu_hist, score=0.783, total=   0.6s\n",
      "[CV] alpha=20, colsample_bytree=0.3, eval_metric=auc, learning_rate=0.2, max_depth=6, n_estimators=200, objective=binary:logistic, silent=True, tree_method=gpu_hist \n",
      "[CV]  alpha=20, colsample_bytree=0.3, eval_metric=auc, learning_rate=0.2, max_depth=6, n_estimators=200, objective=binary:logistic, silent=True, tree_method=gpu_hist, score=0.794, total=   0.6s\n",
      "[CV] alpha=20, colsample_bytree=0.3, eval_metric=auc, learning_rate=0.2, max_depth=6, n_estimators=200, objective=binary:logistic, silent=True, tree_method=gpu_hist \n",
      "[CV]  alpha=20, colsample_bytree=0.3, eval_metric=auc, learning_rate=0.2, max_depth=6, n_estimators=200, objective=binary:logistic, silent=True, tree_method=gpu_hist, score=0.791, total=   0.6s\n",
      "[CV] alpha=20, colsample_bytree=0.3, eval_metric=auc, learning_rate=0.2, max_depth=6, n_estimators=200, objective=binary:logistic, silent=True, tree_method=gpu_hist \n",
      "[CV]  alpha=20, colsample_bytree=0.3, eval_metric=auc, learning_rate=0.2, max_depth=6, n_estimators=200, objective=binary:logistic, silent=True, tree_method=gpu_hist, score=0.786, total=   0.6s\n",
      "[CV] alpha=20, colsample_bytree=0.3, eval_metric=auc, learning_rate=0.2, max_depth=7, n_estimators=100, objective=binary:logistic, silent=True, tree_method=gpu_hist \n",
      "[CV]  alpha=20, colsample_bytree=0.3, eval_metric=auc, learning_rate=0.2, max_depth=7, n_estimators=100, objective=binary:logistic, silent=True, tree_method=gpu_hist, score=0.791, total=   0.4s\n",
      "[CV] alpha=20, colsample_bytree=0.3, eval_metric=auc, learning_rate=0.2, max_depth=7, n_estimators=100, objective=binary:logistic, silent=True, tree_method=gpu_hist \n",
      "[CV]  alpha=20, colsample_bytree=0.3, eval_metric=auc, learning_rate=0.2, max_depth=7, n_estimators=100, objective=binary:logistic, silent=True, tree_method=gpu_hist, score=0.792, total=   0.4s\n",
      "[CV] alpha=20, colsample_bytree=0.3, eval_metric=auc, learning_rate=0.2, max_depth=7, n_estimators=100, objective=binary:logistic, silent=True, tree_method=gpu_hist \n",
      "[CV]  alpha=20, colsample_bytree=0.3, eval_metric=auc, learning_rate=0.2, max_depth=7, n_estimators=100, objective=binary:logistic, silent=True, tree_method=gpu_hist, score=0.793, total=   0.4s\n",
      "[CV] alpha=20, colsample_bytree=0.3, eval_metric=auc, learning_rate=0.2, max_depth=7, n_estimators=100, objective=binary:logistic, silent=True, tree_method=gpu_hist \n",
      "[CV]  alpha=20, colsample_bytree=0.3, eval_metric=auc, learning_rate=0.2, max_depth=7, n_estimators=100, objective=binary:logistic, silent=True, tree_method=gpu_hist, score=0.779, total=   0.4s\n",
      "[CV] alpha=20, colsample_bytree=0.3, eval_metric=auc, learning_rate=0.2, max_depth=7, n_estimators=200, objective=binary:logistic, silent=True, tree_method=gpu_hist \n",
      "[CV]  alpha=20, colsample_bytree=0.3, eval_metric=auc, learning_rate=0.2, max_depth=7, n_estimators=200, objective=binary:logistic, silent=True, tree_method=gpu_hist, score=0.791, total=   0.6s\n",
      "[CV] alpha=20, colsample_bytree=0.3, eval_metric=auc, learning_rate=0.2, max_depth=7, n_estimators=200, objective=binary:logistic, silent=True, tree_method=gpu_hist \n",
      "[CV]  alpha=20, colsample_bytree=0.3, eval_metric=auc, learning_rate=0.2, max_depth=7, n_estimators=200, objective=binary:logistic, silent=True, tree_method=gpu_hist, score=0.792, total=   0.6s\n",
      "[CV] alpha=20, colsample_bytree=0.3, eval_metric=auc, learning_rate=0.2, max_depth=7, n_estimators=200, objective=binary:logistic, silent=True, tree_method=gpu_hist \n",
      "[CV]  alpha=20, colsample_bytree=0.3, eval_metric=auc, learning_rate=0.2, max_depth=7, n_estimators=200, objective=binary:logistic, silent=True, tree_method=gpu_hist, score=0.793, total=   0.6s\n",
      "[CV] alpha=20, colsample_bytree=0.3, eval_metric=auc, learning_rate=0.2, max_depth=7, n_estimators=200, objective=binary:logistic, silent=True, tree_method=gpu_hist \n",
      "[CV]  alpha=20, colsample_bytree=0.3, eval_metric=auc, learning_rate=0.2, max_depth=7, n_estimators=200, objective=binary:logistic, silent=True, tree_method=gpu_hist, score=0.779, total=   0.6s\n",
      "[CV] alpha=20, colsample_bytree=0.3, eval_metric=auc, learning_rate=0.3, max_depth=5, n_estimators=100, objective=binary:logistic, silent=True, tree_method=gpu_hist \n",
      "[CV]  alpha=20, colsample_bytree=0.3, eval_metric=auc, learning_rate=0.3, max_depth=5, n_estimators=100, objective=binary:logistic, silent=True, tree_method=gpu_hist, score=0.790, total=   0.3s\n",
      "[CV] alpha=20, colsample_bytree=0.3, eval_metric=auc, learning_rate=0.3, max_depth=5, n_estimators=100, objective=binary:logistic, silent=True, tree_method=gpu_hist \n",
      "[CV]  alpha=20, colsample_bytree=0.3, eval_metric=auc, learning_rate=0.3, max_depth=5, n_estimators=100, objective=binary:logistic, silent=True, tree_method=gpu_hist, score=0.784, total=   0.3s\n",
      "[CV] alpha=20, colsample_bytree=0.3, eval_metric=auc, learning_rate=0.3, max_depth=5, n_estimators=100, objective=binary:logistic, silent=True, tree_method=gpu_hist \n",
      "[CV]  alpha=20, colsample_bytree=0.3, eval_metric=auc, learning_rate=0.3, max_depth=5, n_estimators=100, objective=binary:logistic, silent=True, tree_method=gpu_hist, score=0.792, total=   0.3s\n",
      "[CV] alpha=20, colsample_bytree=0.3, eval_metric=auc, learning_rate=0.3, max_depth=5, n_estimators=100, objective=binary:logistic, silent=True, tree_method=gpu_hist \n",
      "[CV]  alpha=20, colsample_bytree=0.3, eval_metric=auc, learning_rate=0.3, max_depth=5, n_estimators=100, objective=binary:logistic, silent=True, tree_method=gpu_hist, score=0.781, total=   0.3s\n",
      "[CV] alpha=20, colsample_bytree=0.3, eval_metric=auc, learning_rate=0.3, max_depth=5, n_estimators=200, objective=binary:logistic, silent=True, tree_method=gpu_hist \n",
      "[CV]  alpha=20, colsample_bytree=0.3, eval_metric=auc, learning_rate=0.3, max_depth=5, n_estimators=200, objective=binary:logistic, silent=True, tree_method=gpu_hist, score=0.790, total=   0.5s\n",
      "[CV] alpha=20, colsample_bytree=0.3, eval_metric=auc, learning_rate=0.3, max_depth=5, n_estimators=200, objective=binary:logistic, silent=True, tree_method=gpu_hist \n",
      "[CV]  alpha=20, colsample_bytree=0.3, eval_metric=auc, learning_rate=0.3, max_depth=5, n_estimators=200, objective=binary:logistic, silent=True, tree_method=gpu_hist, score=0.784, total=   0.5s\n",
      "[CV] alpha=20, colsample_bytree=0.3, eval_metric=auc, learning_rate=0.3, max_depth=5, n_estimators=200, objective=binary:logistic, silent=True, tree_method=gpu_hist \n",
      "[CV]  alpha=20, colsample_bytree=0.3, eval_metric=auc, learning_rate=0.3, max_depth=5, n_estimators=200, objective=binary:logistic, silent=True, tree_method=gpu_hist, score=0.792, total=   0.5s\n",
      "[CV] alpha=20, colsample_bytree=0.3, eval_metric=auc, learning_rate=0.3, max_depth=5, n_estimators=200, objective=binary:logistic, silent=True, tree_method=gpu_hist \n",
      "[CV]  alpha=20, colsample_bytree=0.3, eval_metric=auc, learning_rate=0.3, max_depth=5, n_estimators=200, objective=binary:logistic, silent=True, tree_method=gpu_hist, score=0.781, total=   0.5s\n",
      "[CV] alpha=20, colsample_bytree=0.3, eval_metric=auc, learning_rate=0.3, max_depth=6, n_estimators=100, objective=binary:logistic, silent=True, tree_method=gpu_hist \n",
      "[CV]  alpha=20, colsample_bytree=0.3, eval_metric=auc, learning_rate=0.3, max_depth=6, n_estimators=100, objective=binary:logistic, silent=True, tree_method=gpu_hist, score=0.792, total=   0.3s\n",
      "[CV] alpha=20, colsample_bytree=0.3, eval_metric=auc, learning_rate=0.3, max_depth=6, n_estimators=100, objective=binary:logistic, silent=True, tree_method=gpu_hist \n",
      "[CV]  alpha=20, colsample_bytree=0.3, eval_metric=auc, learning_rate=0.3, max_depth=6, n_estimators=100, objective=binary:logistic, silent=True, tree_method=gpu_hist, score=0.794, total=   0.3s\n",
      "[CV] alpha=20, colsample_bytree=0.3, eval_metric=auc, learning_rate=0.3, max_depth=6, n_estimators=100, objective=binary:logistic, silent=True, tree_method=gpu_hist \n",
      "[CV]  alpha=20, colsample_bytree=0.3, eval_metric=auc, learning_rate=0.3, max_depth=6, n_estimators=100, objective=binary:logistic, silent=True, tree_method=gpu_hist, score=0.790, total=   0.4s\n",
      "[CV] alpha=20, colsample_bytree=0.3, eval_metric=auc, learning_rate=0.3, max_depth=6, n_estimators=100, objective=binary:logistic, silent=True, tree_method=gpu_hist \n",
      "[CV]  alpha=20, colsample_bytree=0.3, eval_metric=auc, learning_rate=0.3, max_depth=6, n_estimators=100, objective=binary:logistic, silent=True, tree_method=gpu_hist, score=0.779, total=   0.3s\n",
      "[CV] alpha=20, colsample_bytree=0.3, eval_metric=auc, learning_rate=0.3, max_depth=6, n_estimators=200, objective=binary:logistic, silent=True, tree_method=gpu_hist \n",
      "[CV]  alpha=20, colsample_bytree=0.3, eval_metric=auc, learning_rate=0.3, max_depth=6, n_estimators=200, objective=binary:logistic, silent=True, tree_method=gpu_hist, score=0.792, total=   0.5s\n",
      "[CV] alpha=20, colsample_bytree=0.3, eval_metric=auc, learning_rate=0.3, max_depth=6, n_estimators=200, objective=binary:logistic, silent=True, tree_method=gpu_hist \n",
      "[CV]  alpha=20, colsample_bytree=0.3, eval_metric=auc, learning_rate=0.3, max_depth=6, n_estimators=200, objective=binary:logistic, silent=True, tree_method=gpu_hist, score=0.794, total=   0.6s\n",
      "[CV] alpha=20, colsample_bytree=0.3, eval_metric=auc, learning_rate=0.3, max_depth=6, n_estimators=200, objective=binary:logistic, silent=True, tree_method=gpu_hist \n",
      "[CV]  alpha=20, colsample_bytree=0.3, eval_metric=auc, learning_rate=0.3, max_depth=6, n_estimators=200, objective=binary:logistic, silent=True, tree_method=gpu_hist, score=0.790, total=   0.5s\n",
      "[CV] alpha=20, colsample_bytree=0.3, eval_metric=auc, learning_rate=0.3, max_depth=6, n_estimators=200, objective=binary:logistic, silent=True, tree_method=gpu_hist \n",
      "[CV]  alpha=20, colsample_bytree=0.3, eval_metric=auc, learning_rate=0.3, max_depth=6, n_estimators=200, objective=binary:logistic, silent=True, tree_method=gpu_hist, score=0.779, total=   0.6s\n",
      "[CV] alpha=20, colsample_bytree=0.3, eval_metric=auc, learning_rate=0.3, max_depth=7, n_estimators=100, objective=binary:logistic, silent=True, tree_method=gpu_hist \n",
      "[CV]  alpha=20, colsample_bytree=0.3, eval_metric=auc, learning_rate=0.3, max_depth=7, n_estimators=100, objective=binary:logistic, silent=True, tree_method=gpu_hist, score=0.790, total=   0.4s\n",
      "[CV] alpha=20, colsample_bytree=0.3, eval_metric=auc, learning_rate=0.3, max_depth=7, n_estimators=100, objective=binary:logistic, silent=True, tree_method=gpu_hist \n",
      "[CV]  alpha=20, colsample_bytree=0.3, eval_metric=auc, learning_rate=0.3, max_depth=7, n_estimators=100, objective=binary:logistic, silent=True, tree_method=gpu_hist, score=0.800, total=   0.4s\n",
      "[CV] alpha=20, colsample_bytree=0.3, eval_metric=auc, learning_rate=0.3, max_depth=7, n_estimators=100, objective=binary:logistic, silent=True, tree_method=gpu_hist \n",
      "[CV]  alpha=20, colsample_bytree=0.3, eval_metric=auc, learning_rate=0.3, max_depth=7, n_estimators=100, objective=binary:logistic, silent=True, tree_method=gpu_hist, score=0.789, total=   0.4s\n",
      "[CV] alpha=20, colsample_bytree=0.3, eval_metric=auc, learning_rate=0.3, max_depth=7, n_estimators=100, objective=binary:logistic, silent=True, tree_method=gpu_hist \n",
      "[CV]  alpha=20, colsample_bytree=0.3, eval_metric=auc, learning_rate=0.3, max_depth=7, n_estimators=100, objective=binary:logistic, silent=True, tree_method=gpu_hist, score=0.782, total=   0.4s\n",
      "[CV] alpha=20, colsample_bytree=0.3, eval_metric=auc, learning_rate=0.3, max_depth=7, n_estimators=200, objective=binary:logistic, silent=True, tree_method=gpu_hist \n",
      "[CV]  alpha=20, colsample_bytree=0.3, eval_metric=auc, learning_rate=0.3, max_depth=7, n_estimators=200, objective=binary:logistic, silent=True, tree_method=gpu_hist, score=0.790, total=   0.6s\n",
      "[CV] alpha=20, colsample_bytree=0.3, eval_metric=auc, learning_rate=0.3, max_depth=7, n_estimators=200, objective=binary:logistic, silent=True, tree_method=gpu_hist \n",
      "[CV]  alpha=20, colsample_bytree=0.3, eval_metric=auc, learning_rate=0.3, max_depth=7, n_estimators=200, objective=binary:logistic, silent=True, tree_method=gpu_hist, score=0.800, total=   0.6s\n",
      "[CV] alpha=20, colsample_bytree=0.3, eval_metric=auc, learning_rate=0.3, max_depth=7, n_estimators=200, objective=binary:logistic, silent=True, tree_method=gpu_hist \n",
      "[CV]  alpha=20, colsample_bytree=0.3, eval_metric=auc, learning_rate=0.3, max_depth=7, n_estimators=200, objective=binary:logistic, silent=True, tree_method=gpu_hist, score=0.789, total=   0.6s\n",
      "[CV] alpha=20, colsample_bytree=0.3, eval_metric=auc, learning_rate=0.3, max_depth=7, n_estimators=200, objective=binary:logistic, silent=True, tree_method=gpu_hist \n",
      "[CV]  alpha=20, colsample_bytree=0.3, eval_metric=auc, learning_rate=0.3, max_depth=7, n_estimators=200, objective=binary:logistic, silent=True, tree_method=gpu_hist, score=0.782, total=   0.6s\n",
      "[CV] alpha=20, colsample_bytree=0.3, eval_metric=auc, learning_rate=0.4, max_depth=5, n_estimators=100, objective=binary:logistic, silent=True, tree_method=gpu_hist \n",
      "[CV]  alpha=20, colsample_bytree=0.3, eval_metric=auc, learning_rate=0.4, max_depth=5, n_estimators=100, objective=binary:logistic, silent=True, tree_method=gpu_hist, score=0.785, total=   0.3s\n",
      "[CV] alpha=20, colsample_bytree=0.3, eval_metric=auc, learning_rate=0.4, max_depth=5, n_estimators=100, objective=binary:logistic, silent=True, tree_method=gpu_hist \n",
      "[CV]  alpha=20, colsample_bytree=0.3, eval_metric=auc, learning_rate=0.4, max_depth=5, n_estimators=100, objective=binary:logistic, silent=True, tree_method=gpu_hist, score=0.799, total=   0.3s\n",
      "[CV] alpha=20, colsample_bytree=0.3, eval_metric=auc, learning_rate=0.4, max_depth=5, n_estimators=100, objective=binary:logistic, silent=True, tree_method=gpu_hist \n",
      "[CV]  alpha=20, colsample_bytree=0.3, eval_metric=auc, learning_rate=0.4, max_depth=5, n_estimators=100, objective=binary:logistic, silent=True, tree_method=gpu_hist, score=0.799, total=   0.3s\n",
      "[CV] alpha=20, colsample_bytree=0.3, eval_metric=auc, learning_rate=0.4, max_depth=5, n_estimators=100, objective=binary:logistic, silent=True, tree_method=gpu_hist \n",
      "[CV]  alpha=20, colsample_bytree=0.3, eval_metric=auc, learning_rate=0.4, max_depth=5, n_estimators=100, objective=binary:logistic, silent=True, tree_method=gpu_hist, score=0.779, total=   0.3s\n",
      "[CV] alpha=20, colsample_bytree=0.3, eval_metric=auc, learning_rate=0.4, max_depth=5, n_estimators=200, objective=binary:logistic, silent=True, tree_method=gpu_hist \n",
      "[CV]  alpha=20, colsample_bytree=0.3, eval_metric=auc, learning_rate=0.4, max_depth=5, n_estimators=200, objective=binary:logistic, silent=True, tree_method=gpu_hist, score=0.785, total=   0.5s\n",
      "[CV] alpha=20, colsample_bytree=0.3, eval_metric=auc, learning_rate=0.4, max_depth=5, n_estimators=200, objective=binary:logistic, silent=True, tree_method=gpu_hist \n",
      "[CV]  alpha=20, colsample_bytree=0.3, eval_metric=auc, learning_rate=0.4, max_depth=5, n_estimators=200, objective=binary:logistic, silent=True, tree_method=gpu_hist, score=0.799, total=   0.5s\n",
      "[CV] alpha=20, colsample_bytree=0.3, eval_metric=auc, learning_rate=0.4, max_depth=5, n_estimators=200, objective=binary:logistic, silent=True, tree_method=gpu_hist \n",
      "[CV]  alpha=20, colsample_bytree=0.3, eval_metric=auc, learning_rate=0.4, max_depth=5, n_estimators=200, objective=binary:logistic, silent=True, tree_method=gpu_hist, score=0.799, total=   0.5s\n",
      "[CV] alpha=20, colsample_bytree=0.3, eval_metric=auc, learning_rate=0.4, max_depth=5, n_estimators=200, objective=binary:logistic, silent=True, tree_method=gpu_hist \n",
      "[CV]  alpha=20, colsample_bytree=0.3, eval_metric=auc, learning_rate=0.4, max_depth=5, n_estimators=200, objective=binary:logistic, silent=True, tree_method=gpu_hist, score=0.779, total=   0.5s\n",
      "[CV] alpha=20, colsample_bytree=0.3, eval_metric=auc, learning_rate=0.4, max_depth=6, n_estimators=100, objective=binary:logistic, silent=True, tree_method=gpu_hist \n",
      "[CV]  alpha=20, colsample_bytree=0.3, eval_metric=auc, learning_rate=0.4, max_depth=6, n_estimators=100, objective=binary:logistic, silent=True, tree_method=gpu_hist, score=0.798, total=   0.3s\n",
      "[CV] alpha=20, colsample_bytree=0.3, eval_metric=auc, learning_rate=0.4, max_depth=6, n_estimators=100, objective=binary:logistic, silent=True, tree_method=gpu_hist \n",
      "[CV]  alpha=20, colsample_bytree=0.3, eval_metric=auc, learning_rate=0.4, max_depth=6, n_estimators=100, objective=binary:logistic, silent=True, tree_method=gpu_hist, score=0.801, total=   0.3s\n",
      "[CV] alpha=20, colsample_bytree=0.3, eval_metric=auc, learning_rate=0.4, max_depth=6, n_estimators=100, objective=binary:logistic, silent=True, tree_method=gpu_hist \n",
      "[CV]  alpha=20, colsample_bytree=0.3, eval_metric=auc, learning_rate=0.4, max_depth=6, n_estimators=100, objective=binary:logistic, silent=True, tree_method=gpu_hist, score=0.794, total=   0.3s\n",
      "[CV] alpha=20, colsample_bytree=0.3, eval_metric=auc, learning_rate=0.4, max_depth=6, n_estimators=100, objective=binary:logistic, silent=True, tree_method=gpu_hist \n",
      "[CV]  alpha=20, colsample_bytree=0.3, eval_metric=auc, learning_rate=0.4, max_depth=6, n_estimators=100, objective=binary:logistic, silent=True, tree_method=gpu_hist, score=0.778, total=   0.3s\n",
      "[CV] alpha=20, colsample_bytree=0.3, eval_metric=auc, learning_rate=0.4, max_depth=6, n_estimators=200, objective=binary:logistic, silent=True, tree_method=gpu_hist \n",
      "[CV]  alpha=20, colsample_bytree=0.3, eval_metric=auc, learning_rate=0.4, max_depth=6, n_estimators=200, objective=binary:logistic, silent=True, tree_method=gpu_hist, score=0.798, total=   0.5s\n",
      "[CV] alpha=20, colsample_bytree=0.3, eval_metric=auc, learning_rate=0.4, max_depth=6, n_estimators=200, objective=binary:logistic, silent=True, tree_method=gpu_hist \n",
      "[CV]  alpha=20, colsample_bytree=0.3, eval_metric=auc, learning_rate=0.4, max_depth=6, n_estimators=200, objective=binary:logistic, silent=True, tree_method=gpu_hist, score=0.801, total=   0.5s\n",
      "[CV] alpha=20, colsample_bytree=0.3, eval_metric=auc, learning_rate=0.4, max_depth=6, n_estimators=200, objective=binary:logistic, silent=True, tree_method=gpu_hist \n",
      "[CV]  alpha=20, colsample_bytree=0.3, eval_metric=auc, learning_rate=0.4, max_depth=6, n_estimators=200, objective=binary:logistic, silent=True, tree_method=gpu_hist, score=0.794, total=   0.5s\n",
      "[CV] alpha=20, colsample_bytree=0.3, eval_metric=auc, learning_rate=0.4, max_depth=6, n_estimators=200, objective=binary:logistic, silent=True, tree_method=gpu_hist \n",
      "[CV]  alpha=20, colsample_bytree=0.3, eval_metric=auc, learning_rate=0.4, max_depth=6, n_estimators=200, objective=binary:logistic, silent=True, tree_method=gpu_hist, score=0.778, total=   0.6s\n",
      "[CV] alpha=20, colsample_bytree=0.3, eval_metric=auc, learning_rate=0.4, max_depth=7, n_estimators=100, objective=binary:logistic, silent=True, tree_method=gpu_hist \n",
      "[CV]  alpha=20, colsample_bytree=0.3, eval_metric=auc, learning_rate=0.4, max_depth=7, n_estimators=100, objective=binary:logistic, silent=True, tree_method=gpu_hist, score=0.802, total=   0.4s\n",
      "[CV] alpha=20, colsample_bytree=0.3, eval_metric=auc, learning_rate=0.4, max_depth=7, n_estimators=100, objective=binary:logistic, silent=True, tree_method=gpu_hist \n",
      "[CV]  alpha=20, colsample_bytree=0.3, eval_metric=auc, learning_rate=0.4, max_depth=7, n_estimators=100, objective=binary:logistic, silent=True, tree_method=gpu_hist, score=0.803, total=   0.4s\n",
      "[CV] alpha=20, colsample_bytree=0.3, eval_metric=auc, learning_rate=0.4, max_depth=7, n_estimators=100, objective=binary:logistic, silent=True, tree_method=gpu_hist \n",
      "[CV]  alpha=20, colsample_bytree=0.3, eval_metric=auc, learning_rate=0.4, max_depth=7, n_estimators=100, objective=binary:logistic, silent=True, tree_method=gpu_hist, score=0.796, total=   0.4s\n",
      "[CV] alpha=20, colsample_bytree=0.3, eval_metric=auc, learning_rate=0.4, max_depth=7, n_estimators=100, objective=binary:logistic, silent=True, tree_method=gpu_hist \n",
      "[CV]  alpha=20, colsample_bytree=0.3, eval_metric=auc, learning_rate=0.4, max_depth=7, n_estimators=100, objective=binary:logistic, silent=True, tree_method=gpu_hist, score=0.789, total=   0.4s\n",
      "[CV] alpha=20, colsample_bytree=0.3, eval_metric=auc, learning_rate=0.4, max_depth=7, n_estimators=200, objective=binary:logistic, silent=True, tree_method=gpu_hist \n",
      "[CV]  alpha=20, colsample_bytree=0.3, eval_metric=auc, learning_rate=0.4, max_depth=7, n_estimators=200, objective=binary:logistic, silent=True, tree_method=gpu_hist, score=0.802, total=   0.6s\n",
      "[CV] alpha=20, colsample_bytree=0.3, eval_metric=auc, learning_rate=0.4, max_depth=7, n_estimators=200, objective=binary:logistic, silent=True, tree_method=gpu_hist \n",
      "[CV]  alpha=20, colsample_bytree=0.3, eval_metric=auc, learning_rate=0.4, max_depth=7, n_estimators=200, objective=binary:logistic, silent=True, tree_method=gpu_hist, score=0.803, total=   0.6s\n",
      "[CV] alpha=20, colsample_bytree=0.3, eval_metric=auc, learning_rate=0.4, max_depth=7, n_estimators=200, objective=binary:logistic, silent=True, tree_method=gpu_hist \n",
      "[CV]  alpha=20, colsample_bytree=0.3, eval_metric=auc, learning_rate=0.4, max_depth=7, n_estimators=200, objective=binary:logistic, silent=True, tree_method=gpu_hist, score=0.796, total=   0.6s\n",
      "[CV] alpha=20, colsample_bytree=0.3, eval_metric=auc, learning_rate=0.4, max_depth=7, n_estimators=200, objective=binary:logistic, silent=True, tree_method=gpu_hist \n",
      "[CV]  alpha=20, colsample_bytree=0.3, eval_metric=auc, learning_rate=0.4, max_depth=7, n_estimators=200, objective=binary:logistic, silent=True, tree_method=gpu_hist, score=0.789, total=   0.6s\n"
     ]
    },
    {
     "name": "stderr",
     "output_type": "stream",
     "text": [
      "[Parallel(n_jobs=1)]: Done 144 out of 144 | elapsed:  1.2min finished\n"
     ]
    },
    {
     "data": {
      "text/plain": [
       "GridSearchCV(cv=StratifiedKFold(n_splits=4, random_state=1001, shuffle=True),\n",
       "             estimator=XGBClassifier(alpha=10, base_score=None, booster=None,\n",
       "                                     colsample_bylevel=None,\n",
       "                                     colsample_bynode=None,\n",
       "                                     colsample_bytree=0.3, eval_metric='auc',\n",
       "                                     gamma=None, gpu_id=None,\n",
       "                                     importance_type='gain',\n",
       "                                     interaction_constraints=None,\n",
       "                                     learning_rate=0.1, max_delta_step=None,\n",
       "                                     max_depth=5, min_...\n",
       "                                     scale_pos_weight=None, silent=True,\n",
       "                                     subsample=None, tree_method='gpu_hist',\n",
       "                                     validate_parameters=False,\n",
       "                                     verbosity=None),\n",
       "             n_jobs=1,\n",
       "             param_grid={'alpha': [10, 20], 'colsample_bytree': [0.3],\n",
       "                         'eval_metric': ['auc'],\n",
       "                         'learning_rate': [0.2, 0.3, 0.4],\n",
       "                         'max_depth': [5, 6, 7], 'n_estimators': [100, 200],\n",
       "                         'objective': ['binary:logistic'], 'silent': [True],\n",
       "                         'tree_method': ['gpu_hist']},\n",
       "             scoring='roc_auc', verbose=3)"
      ]
     },
     "execution_count": 38,
     "metadata": {},
     "output_type": "execute_result"
    }
   ],
   "source": [
    "from sklearn.model_selection import StratifiedKFold\n",
    "from sklearn.model_selection import GridSearchCV\n",
    "skf = StratifiedKFold(n_splits=4, shuffle = True, random_state = 1001)\n",
    "\n",
    "params={\n",
    "          'learning_rate': [0.2, 0.3, 0.4],\n",
    "          'colsample_bytree' : [0.3],\n",
    "          'max_depth': [5, 6, 7],\n",
    "          'objective': ['binary:logistic'],\n",
    "          'n_estimators':[100, 200],\n",
    "          'alpha' : [10, 20],\n",
    "          'silent': [True],\n",
    "          'tree_method':['gpu_hist'],\n",
    "          'eval_metric':['auc']}\n",
    "#model = XGBClassifier(**params)\n",
    "#tparams={\n",
    "#          'learning_rate': [0.1, 0.2, 0.3],\n",
    "#          'max_depth': [5, 6, 7]}\n",
    "\n",
    "grid_search = GridSearchCV(model, params, scoring='roc_auc', n_jobs=1, cv=skf, verbose=3)\n",
    "\n",
    "grid_search.fit(train, y_train)"
   ]
  },
  {
   "cell_type": "code",
   "execution_count": 39,
   "metadata": {},
   "outputs": [
    {
     "data": {
      "text/plain": [
       "XGBClassifier(alpha=10, base_score=0.5, booster=None, colsample_bylevel=1,\n",
       "              colsample_bynode=1, colsample_bytree=0.3, eval_metric='auc',\n",
       "              gamma=0, gpu_id=0, importance_type='gain',\n",
       "              interaction_constraints=None, learning_rate=0.2, max_delta_step=0,\n",
       "              max_depth=7, min_child_weight=1, missing=nan,\n",
       "              monotone_constraints=None, n_estimators=200, n_jobs=0,\n",
       "              num_parallel_tree=1, random_state=0, reg_alpha=10, reg_lambda=1,\n",
       "              scale_pos_weight=1, silent=True, subsample=1,\n",
       "              tree_method='gpu_hist', validate_parameters=False,\n",
       "              verbosity=None)"
      ]
     },
     "execution_count": 39,
     "metadata": {},
     "output_type": "execute_result"
    }
   ],
   "source": [
    "grid_search.best_estimator_"
   ]
  },
  {
   "cell_type": "code",
   "execution_count": 35,
   "metadata": {},
   "outputs": [
    {
     "data": {
      "text/plain": [
       "XGBClassifier(alpha=10, base_score=0.5, booster=None, colsample_bylevel=1,\n",
       "              colsample_bynode=1, colsample_bytree=0.3, eval_metric='auc',\n",
       "              gamma=0, gpu_id=0, importance_type='gain',\n",
       "              interaction_constraints=None, learning_rate=0.3, max_delta_step=0,\n",
       "              max_depth=7, min_child_weight=1, missing=nan,\n",
       "              monotone_constraints=None, n_estimators=100, n_jobs=0,\n",
       "              num_parallel_tree=1, random_state=0, reg_alpha=10, reg_lambda=1,\n",
       "              scale_pos_weight=1, silent=True, subsample=1,\n",
       "              tree_method='gpu_hist', validate_parameters=False,\n",
       "              verbosity=None)"
      ]
     },
     "execution_count": 35,
     "metadata": {},
     "output_type": "execute_result"
    }
   ],
   "source": [
    "grid_search.best_estimator_"
   ]
  },
  {
   "cell_type": "code",
   "execution_count": 41,
   "metadata": {},
   "outputs": [
    {
     "data": {
      "text/plain": [
       "{'alpha': 10,\n",
       " 'colsample_bytree': 0.3,\n",
       " 'eval_metric': 'auc',\n",
       " 'learning_rate': 0.2,\n",
       " 'max_depth': 7,\n",
       " 'n_estimators': 200,\n",
       " 'objective': 'binary:logistic',\n",
       " 'silent': True,\n",
       " 'tree_method': 'gpu_hist'}"
      ]
     },
     "execution_count": 41,
     "metadata": {},
     "output_type": "execute_result"
    }
   ],
   "source": [
    "grid_search.best_params_"
   ]
  },
  {
   "cell_type": "code",
   "execution_count": 42,
   "metadata": {},
   "outputs": [
    {
     "data": {
      "text/plain": [
       "0.815843731070787"
      ]
     },
     "execution_count": 42,
     "metadata": {},
     "output_type": "execute_result"
    }
   ],
   "source": [
    "grid_search.best_score_"
   ]
  },
  {
   "cell_type": "code",
   "execution_count": null,
   "metadata": {},
   "outputs": [],
   "source": []
  }
 ],
 "metadata": {
  "kernelspec": {
   "display_name": "Python 3",
   "language": "python",
   "name": "python3"
  },
  "language_info": {
   "codemirror_mode": {
    "name": "ipython",
    "version": 3
   },
   "file_extension": ".py",
   "mimetype": "text/x-python",
   "name": "python",
   "nbconvert_exporter": "python",
   "pygments_lexer": "ipython3",
   "version": "3.6.10"
  }
 },
 "nbformat": 4,
 "nbformat_minor": 4
}
