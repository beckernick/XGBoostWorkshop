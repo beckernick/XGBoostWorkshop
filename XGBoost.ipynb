{
 "cells": [
  {
   "cell_type": "markdown",
   "metadata": {},
   "source": [
    "## XGBoost\n",
    "\n",
    "[XGBoost](https://xgboost.readthedocs.io/en/latest/) is a well-known gradient boosted decision trees (GBDT) machine learning package used to tackle regression, classification, and ranking problems. XGBoost now includes seamless, drop-in GPU acceleration, which significantly speeds up model training and improves accuracy for better predictions. \n",
    "\n",
    "In this lab, you will learn how to train a XGBoost model easily to make predictions for your business.\n",
    "\n",
    "Let's start with generating some fake dataset"
   ]
  },
  {
   "cell_type": "code",
   "execution_count": 4,
   "metadata": {},
   "outputs": [],
   "source": [
    "from sklearn.datasets import make_classification, make_regression\n",
    "import numpy as np\n",
    "import cudf\n",
    "import xgboost as xgb\n",
    "# helper function for simulating data\n",
    "def simulate_data(m, n, k=2, random_state=None, classification=True):\n",
    "    if classification:\n",
    "        #features, labels = make_classification(n_samples=m, n_features=n, \n",
    "        #                                       n_informative=int(n/5), n_classes=k,  n_redundant=0,\n",
    "        #                                       random_state=random_state, n_clusters_per_class=3)\n",
    "        features, labels = make_classification(m, n_features=n, n_informative=int(n/5),\n",
    "                                               n_redundant=0, \n",
    "                                               n_clusters_per_class=2, \n",
    "                                               n_classes=k,\n",
    "                                               class_sep=0.5, random_state=random_state)\n",
    "        features = features.astype(np.float32)\n",
    "    else:\n",
    "        features, labels = make_regression(n_samples=m, n_features=n, \n",
    "                                           n_informative=int(n/5), n_targets=1, \n",
    "                                           random_state=random_state)\n",
    "    \n",
    "        features = features.astype(np.float32)\n",
    "        labels = labels.astype(np.float32)\n",
    "    df = cudf.DataFrame({i:features[:,i] for i in range(n)})\n",
    "    df['label'] = labels\n",
    "    return df"
   ]
  },
  {
   "cell_type": "markdown",
   "metadata": {},
   "source": [
    "We generate a dataframe with 10 features where only 2 features are informatifve. The target variable is a binary variable indicatoring true or false state of the event."
   ]
  },
  {
   "cell_type": "code",
   "execution_count": 5,
   "metadata": {},
   "outputs": [
    {
     "data": {
      "text/html": [
       "<div>\n",
       "<style scoped>\n",
       "    .dataframe tbody tr th:only-of-type {\n",
       "        vertical-align: middle;\n",
       "    }\n",
       "\n",
       "    .dataframe tbody tr th {\n",
       "        vertical-align: top;\n",
       "    }\n",
       "\n",
       "    .dataframe thead th {\n",
       "        text-align: right;\n",
       "    }\n",
       "</style>\n",
       "<table border=\"1\" class=\"dataframe\">\n",
       "  <thead>\n",
       "    <tr style=\"text-align: right;\">\n",
       "      <th></th>\n",
       "      <th>0</th>\n",
       "      <th>1</th>\n",
       "      <th>2</th>\n",
       "      <th>3</th>\n",
       "      <th>4</th>\n",
       "      <th>5</th>\n",
       "      <th>6</th>\n",
       "      <th>7</th>\n",
       "      <th>8</th>\n",
       "      <th>9</th>\n",
       "      <th>label</th>\n",
       "    </tr>\n",
       "  </thead>\n",
       "  <tbody>\n",
       "    <tr>\n",
       "      <th>0</th>\n",
       "      <td>-0.414371</td>\n",
       "      <td>0.170252</td>\n",
       "      <td>0.157776</td>\n",
       "      <td>-0.114504</td>\n",
       "      <td>-0.239577</td>\n",
       "      <td>0.348401</td>\n",
       "      <td>-1.039839</td>\n",
       "      <td>-0.132837</td>\n",
       "      <td>-0.999360</td>\n",
       "      <td>1.141326</td>\n",
       "      <td>0</td>\n",
       "    </tr>\n",
       "    <tr>\n",
       "      <th>1</th>\n",
       "      <td>-0.412286</td>\n",
       "      <td>-0.307401</td>\n",
       "      <td>-0.173051</td>\n",
       "      <td>-0.011609</td>\n",
       "      <td>-1.592140</td>\n",
       "      <td>0.842267</td>\n",
       "      <td>0.179028</td>\n",
       "      <td>-0.862772</td>\n",
       "      <td>-0.000078</td>\n",
       "      <td>1.005745</td>\n",
       "      <td>0</td>\n",
       "    </tr>\n",
       "    <tr>\n",
       "      <th>2</th>\n",
       "      <td>1.848268</td>\n",
       "      <td>-0.192474</td>\n",
       "      <td>0.021588</td>\n",
       "      <td>2.021024</td>\n",
       "      <td>-0.359771</td>\n",
       "      <td>-0.989047</td>\n",
       "      <td>-1.370592</td>\n",
       "      <td>-1.234139</td>\n",
       "      <td>0.944480</td>\n",
       "      <td>0.151289</td>\n",
       "      <td>0</td>\n",
       "    </tr>\n",
       "    <tr>\n",
       "      <th>3</th>\n",
       "      <td>0.809704</td>\n",
       "      <td>0.970889</td>\n",
       "      <td>1.998594</td>\n",
       "      <td>0.200990</td>\n",
       "      <td>-0.525432</td>\n",
       "      <td>0.123070</td>\n",
       "      <td>-0.896409</td>\n",
       "      <td>0.742980</td>\n",
       "      <td>1.808316</td>\n",
       "      <td>-1.956349</td>\n",
       "      <td>0</td>\n",
       "    </tr>\n",
       "    <tr>\n",
       "      <th>4</th>\n",
       "      <td>0.255245</td>\n",
       "      <td>0.690372</td>\n",
       "      <td>1.396018</td>\n",
       "      <td>1.804987</td>\n",
       "      <td>0.857866</td>\n",
       "      <td>-2.228087</td>\n",
       "      <td>-1.520161</td>\n",
       "      <td>0.462251</td>\n",
       "      <td>-0.274052</td>\n",
       "      <td>-0.712503</td>\n",
       "      <td>1</td>\n",
       "    </tr>\n",
       "    <tr>\n",
       "      <th>...</th>\n",
       "      <td>...</td>\n",
       "      <td>...</td>\n",
       "      <td>...</td>\n",
       "      <td>...</td>\n",
       "      <td>...</td>\n",
       "      <td>...</td>\n",
       "      <td>...</td>\n",
       "      <td>...</td>\n",
       "      <td>...</td>\n",
       "      <td>...</td>\n",
       "      <td>...</td>\n",
       "    </tr>\n",
       "    <tr>\n",
       "      <th>9995</th>\n",
       "      <td>-1.855639</td>\n",
       "      <td>1.082656</td>\n",
       "      <td>1.042976</td>\n",
       "      <td>-0.566071</td>\n",
       "      <td>0.272119</td>\n",
       "      <td>-0.253581</td>\n",
       "      <td>2.482289</td>\n",
       "      <td>0.482011</td>\n",
       "      <td>-1.072576</td>\n",
       "      <td>-0.305060</td>\n",
       "      <td>1</td>\n",
       "    </tr>\n",
       "    <tr>\n",
       "      <th>9996</th>\n",
       "      <td>-0.335521</td>\n",
       "      <td>0.668328</td>\n",
       "      <td>0.589292</td>\n",
       "      <td>-0.739626</td>\n",
       "      <td>0.565162</td>\n",
       "      <td>-0.596978</td>\n",
       "      <td>0.536728</td>\n",
       "      <td>0.103781</td>\n",
       "      <td>0.719949</td>\n",
       "      <td>2.002837</td>\n",
       "      <td>1</td>\n",
       "    </tr>\n",
       "    <tr>\n",
       "      <th>9997</th>\n",
       "      <td>1.539625</td>\n",
       "      <td>0.000535</td>\n",
       "      <td>-2.741257</td>\n",
       "      <td>1.741087</td>\n",
       "      <td>-0.507083</td>\n",
       "      <td>0.393023</td>\n",
       "      <td>-0.712878</td>\n",
       "      <td>0.520022</td>\n",
       "      <td>0.052463</td>\n",
       "      <td>-1.971740</td>\n",
       "      <td>0</td>\n",
       "    </tr>\n",
       "    <tr>\n",
       "      <th>9998</th>\n",
       "      <td>0.437912</td>\n",
       "      <td>-0.983853</td>\n",
       "      <td>-0.249036</td>\n",
       "      <td>0.092108</td>\n",
       "      <td>-1.411926</td>\n",
       "      <td>0.076247</td>\n",
       "      <td>-0.831038</td>\n",
       "      <td>-0.906514</td>\n",
       "      <td>-1.241225</td>\n",
       "      <td>0.349912</td>\n",
       "      <td>0</td>\n",
       "    </tr>\n",
       "    <tr>\n",
       "      <th>9999</th>\n",
       "      <td>0.033991</td>\n",
       "      <td>-0.524234</td>\n",
       "      <td>0.263875</td>\n",
       "      <td>0.119393</td>\n",
       "      <td>-0.774235</td>\n",
       "      <td>-0.048008</td>\n",
       "      <td>0.579923</td>\n",
       "      <td>-0.567412</td>\n",
       "      <td>0.239858</td>\n",
       "      <td>1.269873</td>\n",
       "      <td>0</td>\n",
       "    </tr>\n",
       "  </tbody>\n",
       "</table>\n",
       "<p>10000 rows × 11 columns</p>\n",
       "</div>"
      ],
      "text/plain": [
       "             0         1         2         3         4         5         6  \\\n",
       "0    -0.414371  0.170252  0.157776 -0.114504 -0.239577  0.348401 -1.039839   \n",
       "1    -0.412286 -0.307401 -0.173051 -0.011609 -1.592140  0.842267  0.179028   \n",
       "2     1.848268 -0.192474  0.021588  2.021024 -0.359771 -0.989047 -1.370592   \n",
       "3     0.809704  0.970889  1.998594  0.200990 -0.525432  0.123070 -0.896409   \n",
       "4     0.255245  0.690372  1.396018  1.804987  0.857866 -2.228087 -1.520161   \n",
       "...        ...       ...       ...       ...       ...       ...       ...   \n",
       "9995 -1.855639  1.082656  1.042976 -0.566071  0.272119 -0.253581  2.482289   \n",
       "9996 -0.335521  0.668328  0.589292 -0.739626  0.565162 -0.596978  0.536728   \n",
       "9997  1.539625  0.000535 -2.741257  1.741087 -0.507083  0.393023 -0.712878   \n",
       "9998  0.437912 -0.983853 -0.249036  0.092108 -1.411926  0.076247 -0.831038   \n",
       "9999  0.033991 -0.524234  0.263875  0.119393 -0.774235 -0.048008  0.579923   \n",
       "\n",
       "             7         8         9  label  \n",
       "0    -0.132837 -0.999360  1.141326      0  \n",
       "1    -0.862772 -0.000078  1.005745      0  \n",
       "2    -1.234139  0.944480  0.151289      0  \n",
       "3     0.742980  1.808316 -1.956349      0  \n",
       "4     0.462251 -0.274052 -0.712503      1  \n",
       "...        ...       ...       ...    ...  \n",
       "9995  0.482011 -1.072576 -0.305060      1  \n",
       "9996  0.103781  0.719949  2.002837      1  \n",
       "9997  0.520022  0.052463 -1.971740      0  \n",
       "9998 -0.906514 -1.241225  0.349912      0  \n",
       "9999 -0.567412  0.239858  1.269873      0  \n",
       "\n",
       "[10000 rows x 11 columns]"
      ]
     },
     "execution_count": 5,
     "metadata": {},
     "output_type": "execute_result"
    }
   ],
   "source": [
    "length = 10000\n",
    "n_cols = 10\n",
    "data = simulate_data(length, n_cols, random_state=3, classification=True)\n",
    "data"
   ]
  },
  {
   "cell_type": "markdown",
   "metadata": {},
   "source": [
    "We split the dataset into training and validation datasets:"
   ]
  },
  {
   "cell_type": "code",
   "execution_count": 6,
   "metadata": {},
   "outputs": [],
   "source": [
    "training_frac = 0.8\n",
    "validation = int(length*training_frac)\n",
    "train_df = data.iloc[:validation]\n",
    "val_df = data.iloc[validation:]\n",
    "dtrain = xgb.DMatrix(train_df[list(range(n_cols))], train_df['label'])\n",
    "dval = xgb.DMatrix(val_df[list(range(n_cols))], val_df['label'])"
   ]
  },
  {
   "cell_type": "markdown",
   "metadata": {},
   "source": [
    "We are ready to build the XGBoost model. Let's go over the popular parameter settings the XGBoost first.\n",
    "\n",
    "## General Parameters\n",
    "\n",
    "These define the overall functionality of XGBoost.\n",
    "\n",
    "1. booster [default=gbtree]\n",
    "    - Select the type of model to run at each iteration. It has 2 options:\n",
    "        - gbtree: tree-based models\n",
    "        - gblinear: linear models\n",
    "2. silent [default=0]:\n",
    "    - Silent mode is activated is set to 1, i.e. no running messages will be printed.\n",
    "    - It’s generally good to keep it 0 as the messages might help in understanding the model.\n",
    " \n",
    "\n",
    "## Booster Parameters\n",
    "Though there are 2 types of boosters, I’ll consider only tree booster here because it always outperforms the linear booster and thus the later is rarely used.\n",
    "\n",
    "1. eta [default=0.3]\n",
    "    - Makes the model more robust by shrinking the weights on each step\n",
    "    - Typical final values to be used: 0.01-0.2\n",
    "2. min_child_weight [default=1]\n",
    "    - Defines the minimum sum of weights of all observations required in a child.\n",
    "3. max_depth [default=6]\n",
    "    - Used to control over-fitting as higher depth will allow model to learn relations very specific to a particular sample.\n",
    "    - Should be tuned using CV.\n",
    "    - Typical values: 3-10\n",
    "4. max_leaf_nodes\n",
    "    - The maximum number of terminal nodes or leaves in a tree.\n",
    "    - Can be defined in place of max_depth. Since binary trees are created, a depth of ‘n’ would produce a maximum of 2^n leaves.\n",
    "5. gamma [default=0]\n",
    "    - A node is split only when the resulting split gives a positive reduction in the loss function. Gamma specifies the minimum loss reduction required to make a split.\n",
    "    - Makes the algorithm conservative. The values can vary depending on the loss function and should be tuned.\n",
    "6. subsample [default=1]\n",
    "    - Denotes the fraction of observations to be randomly samples for each tree.\n",
    "    - Lower values make the algorithm more conservative and prevents overfitting but too small values might lead to under-fitting.\n",
    "    - Typical values: 0.5-1\n",
    "7. colsample_bytree [default=1]\n",
    "    - Denotes the fraction of columns to be randomly samples for each tree.\n",
    "    - Typical values: 0.5-1\n",
    "8. colsample_bylevel [default=1]\n",
    "    - Denotes the subsample ratio of columns for each split, in each level.\n",
    "    - I don’t use this often because subsample and colsample_bytree will do the job for you. but you can explore further if you feel so.\n",
    "9. lambda [default=1]\n",
    "    - L2 regularization term on weights (analogous to Ridge regression)\n",
    "    - This used to handle the regularization part of XGBoost. Though many data scientists don’t use it often, it should be explored to reduce overfitting.\n",
    "10. alpha [default=0]\n",
    "    - L1 regularization term on weight (analogous to Lasso regression)\n",
    "    - Can be used in case of very high dimensionality so that the algorithm runs faster when implemented\n",
    "11. scale_pos_weight [default=1]\n",
    "    - A value greater than 0 should be used in case of high class imbalance as it helps in faster convergence.\n",
    " \n",
    "\n",
    "## Learning Task Parameters\n",
    "These parameters are used to define the optimization objective the metric to be calculated at each step.\n",
    "\n",
    "1. objective [default=reg:linear]\n",
    "    - This defines the loss function to be minimized. Mostly used values are:\n",
    "        - binary:logistic –logistic regression for binary classification, returns predicted probability (not class)\n",
    "        - multi:softmax –multiclass classification using the softmax objective, returns predicted class (not probabilities)\n",
    "            you also need to set an additional num_class (number of classes) parameter defining the number of unique classes\n",
    "        - multi:softprob –same as softmax, but returns predicted probability of each data point belonging to each class.\n",
    "2. eval_metric [ default according to objective ]\n",
    "    - The metric to be used for validation data.\n",
    "    - The default values are rmse for regression and error for classification.\n",
    "    - Typical values are:\n",
    "        - rmse – root mean square error\n",
    "        - mae – mean absolute error\n",
    "        - logloss – negative log-likelihood\n",
    "        - error – Binary classification error rate (0.5 threshold)\n",
    "        - merror – Multiclass classification error rate\n",
    "        - mlogloss – Multiclass logloss\n",
    "        - auc: Area under the curve\n",
    "3. seed [default=0]\n",
    "    - The random number seed.\n",
    "    - Can be used for generating reproducible results and also for parameter tuning.\n",
    "    \n",
    "Let's start with a set of parameter to see what is the model performance"
   ]
  },
  {
   "cell_type": "code",
   "execution_count": 48,
   "metadata": {},
   "outputs": [
    {
     "name": "stdout",
     "output_type": "stream",
     "text": [
      "[0]\ttrain-auc:0.85606\tval-auc:0.85519\n",
      "[1]\ttrain-auc:0.86294\tval-auc:0.85197\n",
      "[2]\ttrain-auc:0.86236\tval-auc:0.84689\n",
      "[3]\ttrain-auc:0.86452\tval-auc:0.85543\n",
      "[4]\ttrain-auc:0.86520\tval-auc:0.85488\n",
      "[5]\ttrain-auc:0.86670\tval-auc:0.85487\n",
      "[6]\ttrain-auc:0.86424\tval-auc:0.85263\n",
      "[7]\ttrain-auc:0.86536\tval-auc:0.85656\n",
      "[8]\ttrain-auc:0.86588\tval-auc:0.85782\n",
      "[9]\ttrain-auc:0.86643\tval-auc:0.85879\n",
      "[10]\ttrain-auc:0.86725\tval-auc:0.85917\n",
      "[11]\ttrain-auc:0.86772\tval-auc:0.85944\n",
      "[12]\ttrain-auc:0.86908\tval-auc:0.85925\n",
      "[13]\ttrain-auc:0.86928\tval-auc:0.86099\n",
      "[14]\ttrain-auc:0.86992\tval-auc:0.86117\n",
      "[15]\ttrain-auc:0.87091\tval-auc:0.86181\n",
      "[16]\ttrain-auc:0.87140\tval-auc:0.86204\n",
      "[17]\ttrain-auc:0.87191\tval-auc:0.86209\n",
      "[18]\ttrain-auc:0.87249\tval-auc:0.86238\n",
      "[19]\ttrain-auc:0.87288\tval-auc:0.86274\n",
      "[20]\ttrain-auc:0.87318\tval-auc:0.86353\n",
      "[21]\ttrain-auc:0.87379\tval-auc:0.86316\n",
      "[22]\ttrain-auc:0.87426\tval-auc:0.86332\n",
      "[23]\ttrain-auc:0.87475\tval-auc:0.86314\n",
      "[24]\ttrain-auc:0.87534\tval-auc:0.86316\n",
      "[25]\ttrain-auc:0.87536\tval-auc:0.86318\n",
      "[26]\ttrain-auc:0.87604\tval-auc:0.86368\n",
      "[27]\ttrain-auc:0.87668\tval-auc:0.86366\n",
      "[28]\ttrain-auc:0.87758\tval-auc:0.86357\n",
      "[29]\ttrain-auc:0.87846\tval-auc:0.86374\n",
      "[30]\ttrain-auc:0.87900\tval-auc:0.86374\n",
      "[31]\ttrain-auc:0.87927\tval-auc:0.86365\n",
      "[32]\ttrain-auc:0.87981\tval-auc:0.86369\n",
      "[33]\ttrain-auc:0.88038\tval-auc:0.86422\n",
      "[34]\ttrain-auc:0.89240\tval-auc:0.87711\n",
      "[35]\ttrain-auc:0.89874\tval-auc:0.88507\n",
      "[36]\ttrain-auc:0.89898\tval-auc:0.88484\n",
      "[37]\ttrain-auc:0.89908\tval-auc:0.88497\n",
      "[38]\ttrain-auc:0.89860\tval-auc:0.88502\n",
      "[39]\ttrain-auc:0.89900\tval-auc:0.88501\n",
      "[40]\ttrain-auc:0.89921\tval-auc:0.88503\n",
      "[41]\ttrain-auc:0.89946\tval-auc:0.88500\n",
      "[42]\ttrain-auc:0.90335\tval-auc:0.88984\n",
      "[43]\ttrain-auc:0.90349\tval-auc:0.88993\n",
      "[44]\ttrain-auc:0.90372\tval-auc:0.88985\n",
      "[45]\ttrain-auc:0.90321\tval-auc:0.88973\n",
      "[46]\ttrain-auc:0.90351\tval-auc:0.88980\n",
      "[47]\ttrain-auc:0.90400\tval-auc:0.88975\n",
      "[48]\ttrain-auc:0.90424\tval-auc:0.88973\n",
      "[49]\ttrain-auc:0.90451\tval-auc:0.88981\n",
      "[50]\ttrain-auc:0.90489\tval-auc:0.88974\n",
      "[51]\ttrain-auc:0.90506\tval-auc:0.88981\n",
      "[52]\ttrain-auc:0.90525\tval-auc:0.88983\n",
      "[53]\ttrain-auc:0.90831\tval-auc:0.89331\n",
      "[54]\ttrain-auc:0.90855\tval-auc:0.89337\n",
      "[55]\ttrain-auc:0.90868\tval-auc:0.89331\n",
      "[56]\ttrain-auc:0.90880\tval-auc:0.89341\n",
      "[57]\ttrain-auc:0.90913\tval-auc:0.89330\n",
      "[58]\ttrain-auc:0.90928\tval-auc:0.89333\n",
      "[59]\ttrain-auc:0.90943\tval-auc:0.89331\n",
      "[60]\ttrain-auc:0.90966\tval-auc:0.89320\n",
      "[61]\ttrain-auc:0.90983\tval-auc:0.89310\n",
      "[62]\ttrain-auc:0.90938\tval-auc:0.89272\n",
      "[63]\ttrain-auc:0.90908\tval-auc:0.89257\n",
      "[64]\ttrain-auc:0.90931\tval-auc:0.89259\n",
      "[65]\ttrain-auc:0.90943\tval-auc:0.89245\n",
      "[66]\ttrain-auc:0.90960\tval-auc:0.89238\n",
      "[67]\ttrain-auc:0.90974\tval-auc:0.89249\n",
      "[68]\ttrain-auc:0.90941\tval-auc:0.89231\n",
      "[69]\ttrain-auc:0.90899\tval-auc:0.89209\n",
      "[70]\ttrain-auc:0.90869\tval-auc:0.89180\n",
      "[71]\ttrain-auc:0.90901\tval-auc:0.89190\n",
      "[72]\ttrain-auc:0.90878\tval-auc:0.89167\n",
      "[73]\ttrain-auc:0.90907\tval-auc:0.89180\n",
      "[74]\ttrain-auc:0.90919\tval-auc:0.89172\n",
      "[75]\ttrain-auc:0.90937\tval-auc:0.89160\n",
      "[76]\ttrain-auc:0.91137\tval-auc:0.89398\n",
      "[77]\ttrain-auc:0.91171\tval-auc:0.89398\n",
      "[78]\ttrain-auc:0.91159\tval-auc:0.89372\n",
      "[79]\ttrain-auc:0.91185\tval-auc:0.89374\n",
      "[80]\ttrain-auc:0.91216\tval-auc:0.89366\n",
      "[81]\ttrain-auc:0.91227\tval-auc:0.89366\n",
      "[82]\ttrain-auc:0.91254\tval-auc:0.89370\n",
      "[83]\ttrain-auc:0.91269\tval-auc:0.89372\n",
      "[84]\ttrain-auc:0.91285\tval-auc:0.89358\n",
      "[85]\ttrain-auc:0.91303\tval-auc:0.89375\n",
      "[86]\ttrain-auc:0.91317\tval-auc:0.89370\n",
      "[87]\ttrain-auc:0.91294\tval-auc:0.89345\n",
      "[88]\ttrain-auc:0.91310\tval-auc:0.89342\n",
      "[89]\ttrain-auc:0.91296\tval-auc:0.89314\n",
      "[90]\ttrain-auc:0.91320\tval-auc:0.89308\n",
      "[91]\ttrain-auc:0.91310\tval-auc:0.89305\n",
      "[92]\ttrain-auc:0.91340\tval-auc:0.89301\n",
      "[93]\ttrain-auc:0.91357\tval-auc:0.89300\n",
      "[94]\ttrain-auc:0.91372\tval-auc:0.89295\n",
      "[95]\ttrain-auc:0.91353\tval-auc:0.89291\n",
      "[96]\ttrain-auc:0.91476\tval-auc:0.89425\n",
      "[97]\ttrain-auc:0.91495\tval-auc:0.89412\n",
      "[98]\ttrain-auc:0.91518\tval-auc:0.89416\n",
      "[99]\ttrain-auc:0.91553\tval-auc:0.89410\n"
     ]
    }
   ],
   "source": [
    "params={\n",
    "          'learning_rate': 0.1,\n",
    "          'colsample_bytree' : 0.3,\n",
    "          'max_depth': 5,\n",
    "          'num_parallel_tree':1,\n",
    "          'objective': 'binary:logistic',\n",
    "          'alpha' : 10,\n",
    "          'silent': True,\n",
    "          'tree_method':'gpu_hist',\n",
    "          'eval_metric':'auc'}\n",
    "## Train the model\n",
    "trained_model = xgb.train(\n",
    "                        params,\n",
    "                        dtrain,\n",
    "                        num_boost_round=100, evals=[(dtrain, 'train'), (dval, 'val')])\n",
    "\n",
    "## Predict the model\n",
    "prediction = trained_model.predict(dval)"
   ]
  },
  {
   "cell_type": "markdown",
   "metadata": {},
   "source": [
    "As we can see, the AUC score for validation dataset is 0.89, which is pretty good. \n",
    "\n",
    "## Exercise\n",
    "Try to adjust the `num_boost_round` to see the effect in training"
   ]
  },
  {
   "cell_type": "code",
   "execution_count": null,
   "metadata": {},
   "outputs": [],
   "source": []
  },
  {
   "cell_type": "markdown",
   "metadata": {},
   "source": [
    "XGBoost also provides a Scikit-learn wrapper interface for XGBoost model, which makes it easy to use the tools inside Scikit-learn library. Let's train it with Scikit-learning API. "
   ]
  },
  {
   "cell_type": "code",
   "execution_count": 49,
   "metadata": {},
   "outputs": [
    {
     "data": {
      "text/plain": [
       "XGBClassifier(alpha=10, base_score=0.5, booster=None, colsample_bylevel=1,\n",
       "              colsample_bynode=1, colsample_bytree=0.3, eval_metric='auc',\n",
       "              gamma=0, gpu_id=0, importance_type='gain',\n",
       "              interaction_constraints=None, learning_rate=0.1, max_delta_step=0,\n",
       "              max_depth=5, min_child_weight=1, missing=nan,\n",
       "              monotone_constraints=None, n_estimators=100, n_jobs=0,\n",
       "              num_parallel_tree=1, random_state=0, reg_alpha=10, reg_lambda=1,\n",
       "              scale_pos_weight=1, silent=True, subsample=1,\n",
       "              tree_method='gpu_hist', validate_parameters=1, verbosity=None)"
      ]
     },
     "execution_count": 49,
     "metadata": {},
     "output_type": "execute_result"
    }
   ],
   "source": [
    "from xgboost import XGBClassifier\n",
    "model = XGBClassifier(**params)\n",
    "model.fit(train_df[list(range(n_cols))].values.get(), train_df['label'].values.get())"
   ]
  },
  {
   "cell_type": "code",
   "execution_count": null,
   "metadata": {},
   "outputs": [],
   "source": [
    "Check the model prediction vs the previous prediction results"
   ]
  },
  {
   "cell_type": "code",
   "execution_count": 52,
   "metadata": {},
   "outputs": [
    {
     "data": {
      "text/plain": [
       "0"
      ]
     },
     "execution_count": 52,
     "metadata": {},
     "output_type": "execute_result"
    }
   ],
   "source": [
    "np.abs(model.predict(val_df[list(range(n_cols))].values.get()) - (prediction >= 0.5).astype('int')).sum()"
   ]
  },
  {
   "cell_type": "markdown",
   "metadata": {},
   "source": [
    "Since XGBClassifier is Scikit-learn compatible, we can easily do the hypy-parameters tuning by using `GridSearchCV`. Here we would like to find out the best parameters for `learning_rate`, `max_depth`, `number of estimators`."
   ]
  },
  {
   "cell_type": "code",
   "execution_count": 54,
   "metadata": {},
   "outputs": [
    {
     "name": "stdout",
     "output_type": "stream",
     "text": [
      "Fitting 4 folds for each of 18 candidates, totalling 72 fits\n",
      "[CV] alpha=10, colsample_bytree=0.3, eval_metric=auc, learning_rate=0.2, max_depth=5, n_estimators=100, objective=binary:logistic, silent=True, tree_method=gpu_hist \n"
     ]
    },
    {
     "name": "stderr",
     "output_type": "stream",
     "text": [
      "[Parallel(n_jobs=1)]: Using backend SequentialBackend with 1 concurrent workers.\n"
     ]
    },
    {
     "name": "stdout",
     "output_type": "stream",
     "text": [
      "[CV]  alpha=10, colsample_bytree=0.3, eval_metric=auc, learning_rate=0.2, max_depth=5, n_estimators=100, objective=binary:logistic, silent=True, tree_method=gpu_hist, score=0.896, total=   0.5s\n",
      "[CV] alpha=10, colsample_bytree=0.3, eval_metric=auc, learning_rate=0.2, max_depth=5, n_estimators=100, objective=binary:logistic, silent=True, tree_method=gpu_hist \n"
     ]
    },
    {
     "name": "stderr",
     "output_type": "stream",
     "text": [
      "[Parallel(n_jobs=1)]: Done   1 out of   1 | elapsed:    0.5s remaining:    0.0s\n"
     ]
    },
    {
     "name": "stdout",
     "output_type": "stream",
     "text": [
      "[CV]  alpha=10, colsample_bytree=0.3, eval_metric=auc, learning_rate=0.2, max_depth=5, n_estimators=100, objective=binary:logistic, silent=True, tree_method=gpu_hist, score=0.899, total=   0.4s\n",
      "[CV] alpha=10, colsample_bytree=0.3, eval_metric=auc, learning_rate=0.2, max_depth=5, n_estimators=100, objective=binary:logistic, silent=True, tree_method=gpu_hist \n"
     ]
    },
    {
     "name": "stderr",
     "output_type": "stream",
     "text": [
      "[Parallel(n_jobs=1)]: Done   2 out of   2 | elapsed:    0.9s remaining:    0.0s\n"
     ]
    },
    {
     "name": "stdout",
     "output_type": "stream",
     "text": [
      "[CV]  alpha=10, colsample_bytree=0.3, eval_metric=auc, learning_rate=0.2, max_depth=5, n_estimators=100, objective=binary:logistic, silent=True, tree_method=gpu_hist, score=0.890, total=   0.4s\n",
      "[CV] alpha=10, colsample_bytree=0.3, eval_metric=auc, learning_rate=0.2, max_depth=5, n_estimators=100, objective=binary:logistic, silent=True, tree_method=gpu_hist \n",
      "[CV]  alpha=10, colsample_bytree=0.3, eval_metric=auc, learning_rate=0.2, max_depth=5, n_estimators=100, objective=binary:logistic, silent=True, tree_method=gpu_hist, score=0.875, total=   0.4s\n",
      "[CV] alpha=10, colsample_bytree=0.3, eval_metric=auc, learning_rate=0.2, max_depth=5, n_estimators=200, objective=binary:logistic, silent=True, tree_method=gpu_hist \n",
      "[CV]  alpha=10, colsample_bytree=0.3, eval_metric=auc, learning_rate=0.2, max_depth=5, n_estimators=200, objective=binary:logistic, silent=True, tree_method=gpu_hist, score=0.897, total=   0.7s\n",
      "[CV] alpha=10, colsample_bytree=0.3, eval_metric=auc, learning_rate=0.2, max_depth=5, n_estimators=200, objective=binary:logistic, silent=True, tree_method=gpu_hist \n",
      "[CV]  alpha=10, colsample_bytree=0.3, eval_metric=auc, learning_rate=0.2, max_depth=5, n_estimators=200, objective=binary:logistic, silent=True, tree_method=gpu_hist, score=0.906, total=   0.7s\n",
      "[CV] alpha=10, colsample_bytree=0.3, eval_metric=auc, learning_rate=0.2, max_depth=5, n_estimators=200, objective=binary:logistic, silent=True, tree_method=gpu_hist \n",
      "[CV]  alpha=10, colsample_bytree=0.3, eval_metric=auc, learning_rate=0.2, max_depth=5, n_estimators=200, objective=binary:logistic, silent=True, tree_method=gpu_hist, score=0.894, total=   0.6s\n",
      "[CV] alpha=10, colsample_bytree=0.3, eval_metric=auc, learning_rate=0.2, max_depth=5, n_estimators=200, objective=binary:logistic, silent=True, tree_method=gpu_hist \n",
      "[CV]  alpha=10, colsample_bytree=0.3, eval_metric=auc, learning_rate=0.2, max_depth=5, n_estimators=200, objective=binary:logistic, silent=True, tree_method=gpu_hist, score=0.879, total=   0.6s\n",
      "[CV] alpha=10, colsample_bytree=0.3, eval_metric=auc, learning_rate=0.2, max_depth=6, n_estimators=100, objective=binary:logistic, silent=True, tree_method=gpu_hist \n",
      "[CV]  alpha=10, colsample_bytree=0.3, eval_metric=auc, learning_rate=0.2, max_depth=6, n_estimators=100, objective=binary:logistic, silent=True, tree_method=gpu_hist, score=0.897, total=   0.5s\n",
      "[CV] alpha=10, colsample_bytree=0.3, eval_metric=auc, learning_rate=0.2, max_depth=6, n_estimators=100, objective=binary:logistic, silent=True, tree_method=gpu_hist \n",
      "[CV]  alpha=10, colsample_bytree=0.3, eval_metric=auc, learning_rate=0.2, max_depth=6, n_estimators=100, objective=binary:logistic, silent=True, tree_method=gpu_hist, score=0.901, total=   0.5s\n",
      "[CV] alpha=10, colsample_bytree=0.3, eval_metric=auc, learning_rate=0.2, max_depth=6, n_estimators=100, objective=binary:logistic, silent=True, tree_method=gpu_hist \n",
      "[CV]  alpha=10, colsample_bytree=0.3, eval_metric=auc, learning_rate=0.2, max_depth=6, n_estimators=100, objective=binary:logistic, silent=True, tree_method=gpu_hist, score=0.893, total=   0.4s\n",
      "[CV] alpha=10, colsample_bytree=0.3, eval_metric=auc, learning_rate=0.2, max_depth=6, n_estimators=100, objective=binary:logistic, silent=True, tree_method=gpu_hist \n",
      "[CV]  alpha=10, colsample_bytree=0.3, eval_metric=auc, learning_rate=0.2, max_depth=6, n_estimators=100, objective=binary:logistic, silent=True, tree_method=gpu_hist, score=0.878, total=   0.5s\n",
      "[CV] alpha=10, colsample_bytree=0.3, eval_metric=auc, learning_rate=0.2, max_depth=6, n_estimators=200, objective=binary:logistic, silent=True, tree_method=gpu_hist \n",
      "[CV]  alpha=10, colsample_bytree=0.3, eval_metric=auc, learning_rate=0.2, max_depth=6, n_estimators=200, objective=binary:logistic, silent=True, tree_method=gpu_hist, score=0.898, total=   0.7s\n",
      "[CV] alpha=10, colsample_bytree=0.3, eval_metric=auc, learning_rate=0.2, max_depth=6, n_estimators=200, objective=binary:logistic, silent=True, tree_method=gpu_hist \n",
      "[CV]  alpha=10, colsample_bytree=0.3, eval_metric=auc, learning_rate=0.2, max_depth=6, n_estimators=200, objective=binary:logistic, silent=True, tree_method=gpu_hist, score=0.906, total=   0.7s\n",
      "[CV] alpha=10, colsample_bytree=0.3, eval_metric=auc, learning_rate=0.2, max_depth=6, n_estimators=200, objective=binary:logistic, silent=True, tree_method=gpu_hist \n",
      "[CV]  alpha=10, colsample_bytree=0.3, eval_metric=auc, learning_rate=0.2, max_depth=6, n_estimators=200, objective=binary:logistic, silent=True, tree_method=gpu_hist, score=0.895, total=   0.7s\n",
      "[CV] alpha=10, colsample_bytree=0.3, eval_metric=auc, learning_rate=0.2, max_depth=6, n_estimators=200, objective=binary:logistic, silent=True, tree_method=gpu_hist \n",
      "[CV]  alpha=10, colsample_bytree=0.3, eval_metric=auc, learning_rate=0.2, max_depth=6, n_estimators=200, objective=binary:logistic, silent=True, tree_method=gpu_hist, score=0.881, total=   0.7s\n",
      "[CV] alpha=10, colsample_bytree=0.3, eval_metric=auc, learning_rate=0.2, max_depth=7, n_estimators=100, objective=binary:logistic, silent=True, tree_method=gpu_hist \n",
      "[CV]  alpha=10, colsample_bytree=0.3, eval_metric=auc, learning_rate=0.2, max_depth=7, n_estimators=100, objective=binary:logistic, silent=True, tree_method=gpu_hist, score=0.896, total=   0.5s\n",
      "[CV] alpha=10, colsample_bytree=0.3, eval_metric=auc, learning_rate=0.2, max_depth=7, n_estimators=100, objective=binary:logistic, silent=True, tree_method=gpu_hist \n",
      "[CV]  alpha=10, colsample_bytree=0.3, eval_metric=auc, learning_rate=0.2, max_depth=7, n_estimators=100, objective=binary:logistic, silent=True, tree_method=gpu_hist, score=0.901, total=   0.5s\n",
      "[CV] alpha=10, colsample_bytree=0.3, eval_metric=auc, learning_rate=0.2, max_depth=7, n_estimators=100, objective=binary:logistic, silent=True, tree_method=gpu_hist \n",
      "[CV]  alpha=10, colsample_bytree=0.3, eval_metric=auc, learning_rate=0.2, max_depth=7, n_estimators=100, objective=binary:logistic, silent=True, tree_method=gpu_hist, score=0.892, total=   0.5s\n",
      "[CV] alpha=10, colsample_bytree=0.3, eval_metric=auc, learning_rate=0.2, max_depth=7, n_estimators=100, objective=binary:logistic, silent=True, tree_method=gpu_hist \n",
      "[CV]  alpha=10, colsample_bytree=0.3, eval_metric=auc, learning_rate=0.2, max_depth=7, n_estimators=100, objective=binary:logistic, silent=True, tree_method=gpu_hist, score=0.878, total=   0.5s\n",
      "[CV] alpha=10, colsample_bytree=0.3, eval_metric=auc, learning_rate=0.2, max_depth=7, n_estimators=200, objective=binary:logistic, silent=True, tree_method=gpu_hist \n",
      "[CV]  alpha=10, colsample_bytree=0.3, eval_metric=auc, learning_rate=0.2, max_depth=7, n_estimators=200, objective=binary:logistic, silent=True, tree_method=gpu_hist, score=0.900, total=   0.8s\n",
      "[CV] alpha=10, colsample_bytree=0.3, eval_metric=auc, learning_rate=0.2, max_depth=7, n_estimators=200, objective=binary:logistic, silent=True, tree_method=gpu_hist \n",
      "[CV]  alpha=10, colsample_bytree=0.3, eval_metric=auc, learning_rate=0.2, max_depth=7, n_estimators=200, objective=binary:logistic, silent=True, tree_method=gpu_hist, score=0.906, total=   0.8s\n",
      "[CV] alpha=10, colsample_bytree=0.3, eval_metric=auc, learning_rate=0.2, max_depth=7, n_estimators=200, objective=binary:logistic, silent=True, tree_method=gpu_hist \n",
      "[CV]  alpha=10, colsample_bytree=0.3, eval_metric=auc, learning_rate=0.2, max_depth=7, n_estimators=200, objective=binary:logistic, silent=True, tree_method=gpu_hist, score=0.893, total=   0.8s\n",
      "[CV] alpha=10, colsample_bytree=0.3, eval_metric=auc, learning_rate=0.2, max_depth=7, n_estimators=200, objective=binary:logistic, silent=True, tree_method=gpu_hist \n",
      "[CV]  alpha=10, colsample_bytree=0.3, eval_metric=auc, learning_rate=0.2, max_depth=7, n_estimators=200, objective=binary:logistic, silent=True, tree_method=gpu_hist, score=0.881, total=   0.8s\n",
      "[CV] alpha=10, colsample_bytree=0.3, eval_metric=auc, learning_rate=0.3, max_depth=5, n_estimators=100, objective=binary:logistic, silent=True, tree_method=gpu_hist \n",
      "[CV]  alpha=10, colsample_bytree=0.3, eval_metric=auc, learning_rate=0.3, max_depth=5, n_estimators=100, objective=binary:logistic, silent=True, tree_method=gpu_hist, score=0.895, total=   0.4s\n",
      "[CV] alpha=10, colsample_bytree=0.3, eval_metric=auc, learning_rate=0.3, max_depth=5, n_estimators=100, objective=binary:logistic, silent=True, tree_method=gpu_hist \n",
      "[CV]  alpha=10, colsample_bytree=0.3, eval_metric=auc, learning_rate=0.3, max_depth=5, n_estimators=100, objective=binary:logistic, silent=True, tree_method=gpu_hist, score=0.902, total=   0.4s\n",
      "[CV] alpha=10, colsample_bytree=0.3, eval_metric=auc, learning_rate=0.3, max_depth=5, n_estimators=100, objective=binary:logistic, silent=True, tree_method=gpu_hist \n",
      "[CV]  alpha=10, colsample_bytree=0.3, eval_metric=auc, learning_rate=0.3, max_depth=5, n_estimators=100, objective=binary:logistic, silent=True, tree_method=gpu_hist, score=0.893, total=   0.4s\n",
      "[CV] alpha=10, colsample_bytree=0.3, eval_metric=auc, learning_rate=0.3, max_depth=5, n_estimators=100, objective=binary:logistic, silent=True, tree_method=gpu_hist \n",
      "[CV]  alpha=10, colsample_bytree=0.3, eval_metric=auc, learning_rate=0.3, max_depth=5, n_estimators=100, objective=binary:logistic, silent=True, tree_method=gpu_hist, score=0.878, total=   0.4s\n",
      "[CV] alpha=10, colsample_bytree=0.3, eval_metric=auc, learning_rate=0.3, max_depth=5, n_estimators=200, objective=binary:logistic, silent=True, tree_method=gpu_hist \n",
      "[CV]  alpha=10, colsample_bytree=0.3, eval_metric=auc, learning_rate=0.3, max_depth=5, n_estimators=200, objective=binary:logistic, silent=True, tree_method=gpu_hist, score=0.894, total=   0.6s\n",
      "[CV] alpha=10, colsample_bytree=0.3, eval_metric=auc, learning_rate=0.3, max_depth=5, n_estimators=200, objective=binary:logistic, silent=True, tree_method=gpu_hist \n",
      "[CV]  alpha=10, colsample_bytree=0.3, eval_metric=auc, learning_rate=0.3, max_depth=5, n_estimators=200, objective=binary:logistic, silent=True, tree_method=gpu_hist, score=0.903, total=   0.6s\n",
      "[CV] alpha=10, colsample_bytree=0.3, eval_metric=auc, learning_rate=0.3, max_depth=5, n_estimators=200, objective=binary:logistic, silent=True, tree_method=gpu_hist \n",
      "[CV]  alpha=10, colsample_bytree=0.3, eval_metric=auc, learning_rate=0.3, max_depth=5, n_estimators=200, objective=binary:logistic, silent=True, tree_method=gpu_hist, score=0.893, total=   0.6s\n",
      "[CV] alpha=10, colsample_bytree=0.3, eval_metric=auc, learning_rate=0.3, max_depth=5, n_estimators=200, objective=binary:logistic, silent=True, tree_method=gpu_hist \n",
      "[CV]  alpha=10, colsample_bytree=0.3, eval_metric=auc, learning_rate=0.3, max_depth=5, n_estimators=200, objective=binary:logistic, silent=True, tree_method=gpu_hist, score=0.878, total=   0.6s\n",
      "[CV] alpha=10, colsample_bytree=0.3, eval_metric=auc, learning_rate=0.3, max_depth=6, n_estimators=100, objective=binary:logistic, silent=True, tree_method=gpu_hist \n",
      "[CV]  alpha=10, colsample_bytree=0.3, eval_metric=auc, learning_rate=0.3, max_depth=6, n_estimators=100, objective=binary:logistic, silent=True, tree_method=gpu_hist, score=0.898, total=   0.4s\n",
      "[CV] alpha=10, colsample_bytree=0.3, eval_metric=auc, learning_rate=0.3, max_depth=6, n_estimators=100, objective=binary:logistic, silent=True, tree_method=gpu_hist \n",
      "[CV]  alpha=10, colsample_bytree=0.3, eval_metric=auc, learning_rate=0.3, max_depth=6, n_estimators=100, objective=binary:logistic, silent=True, tree_method=gpu_hist, score=0.902, total=   0.4s\n",
      "[CV] alpha=10, colsample_bytree=0.3, eval_metric=auc, learning_rate=0.3, max_depth=6, n_estimators=100, objective=binary:logistic, silent=True, tree_method=gpu_hist \n",
      "[CV]  alpha=10, colsample_bytree=0.3, eval_metric=auc, learning_rate=0.3, max_depth=6, n_estimators=100, objective=binary:logistic, silent=True, tree_method=gpu_hist, score=0.894, total=   0.4s\n",
      "[CV] alpha=10, colsample_bytree=0.3, eval_metric=auc, learning_rate=0.3, max_depth=6, n_estimators=100, objective=binary:logistic, silent=True, tree_method=gpu_hist \n",
      "[CV]  alpha=10, colsample_bytree=0.3, eval_metric=auc, learning_rate=0.3, max_depth=6, n_estimators=100, objective=binary:logistic, silent=True, tree_method=gpu_hist, score=0.879, total=   0.4s\n",
      "[CV] alpha=10, colsample_bytree=0.3, eval_metric=auc, learning_rate=0.3, max_depth=6, n_estimators=200, objective=binary:logistic, silent=True, tree_method=gpu_hist \n",
      "[CV]  alpha=10, colsample_bytree=0.3, eval_metric=auc, learning_rate=0.3, max_depth=6, n_estimators=200, objective=binary:logistic, silent=True, tree_method=gpu_hist, score=0.899, total=   0.7s\n",
      "[CV] alpha=10, colsample_bytree=0.3, eval_metric=auc, learning_rate=0.3, max_depth=6, n_estimators=200, objective=binary:logistic, silent=True, tree_method=gpu_hist \n",
      "[CV]  alpha=10, colsample_bytree=0.3, eval_metric=auc, learning_rate=0.3, max_depth=6, n_estimators=200, objective=binary:logistic, silent=True, tree_method=gpu_hist, score=0.904, total=   0.6s\n",
      "[CV] alpha=10, colsample_bytree=0.3, eval_metric=auc, learning_rate=0.3, max_depth=6, n_estimators=200, objective=binary:logistic, silent=True, tree_method=gpu_hist \n",
      "[CV]  alpha=10, colsample_bytree=0.3, eval_metric=auc, learning_rate=0.3, max_depth=6, n_estimators=200, objective=binary:logistic, silent=True, tree_method=gpu_hist, score=0.894, total=   0.6s\n",
      "[CV] alpha=10, colsample_bytree=0.3, eval_metric=auc, learning_rate=0.3, max_depth=6, n_estimators=200, objective=binary:logistic, silent=True, tree_method=gpu_hist \n",
      "[CV]  alpha=10, colsample_bytree=0.3, eval_metric=auc, learning_rate=0.3, max_depth=6, n_estimators=200, objective=binary:logistic, silent=True, tree_method=gpu_hist, score=0.878, total=   0.6s\n",
      "[CV] alpha=10, colsample_bytree=0.3, eval_metric=auc, learning_rate=0.3, max_depth=7, n_estimators=100, objective=binary:logistic, silent=True, tree_method=gpu_hist \n",
      "[CV]  alpha=10, colsample_bytree=0.3, eval_metric=auc, learning_rate=0.3, max_depth=7, n_estimators=100, objective=binary:logistic, silent=True, tree_method=gpu_hist, score=0.895, total=   0.5s\n",
      "[CV] alpha=10, colsample_bytree=0.3, eval_metric=auc, learning_rate=0.3, max_depth=7, n_estimators=100, objective=binary:logistic, silent=True, tree_method=gpu_hist \n",
      "[CV]  alpha=10, colsample_bytree=0.3, eval_metric=auc, learning_rate=0.3, max_depth=7, n_estimators=100, objective=binary:logistic, silent=True, tree_method=gpu_hist, score=0.904, total=   0.5s\n",
      "[CV] alpha=10, colsample_bytree=0.3, eval_metric=auc, learning_rate=0.3, max_depth=7, n_estimators=100, objective=binary:logistic, silent=True, tree_method=gpu_hist \n",
      "[CV]  alpha=10, colsample_bytree=0.3, eval_metric=auc, learning_rate=0.3, max_depth=7, n_estimators=100, objective=binary:logistic, silent=True, tree_method=gpu_hist, score=0.893, total=   0.5s\n",
      "[CV] alpha=10, colsample_bytree=0.3, eval_metric=auc, learning_rate=0.3, max_depth=7, n_estimators=100, objective=binary:logistic, silent=True, tree_method=gpu_hist \n",
      "[CV]  alpha=10, colsample_bytree=0.3, eval_metric=auc, learning_rate=0.3, max_depth=7, n_estimators=100, objective=binary:logistic, silent=True, tree_method=gpu_hist, score=0.880, total=   0.5s\n",
      "[CV] alpha=10, colsample_bytree=0.3, eval_metric=auc, learning_rate=0.3, max_depth=7, n_estimators=200, objective=binary:logistic, silent=True, tree_method=gpu_hist \n",
      "[CV]  alpha=10, colsample_bytree=0.3, eval_metric=auc, learning_rate=0.3, max_depth=7, n_estimators=200, objective=binary:logistic, silent=True, tree_method=gpu_hist, score=0.896, total=   0.7s\n",
      "[CV] alpha=10, colsample_bytree=0.3, eval_metric=auc, learning_rate=0.3, max_depth=7, n_estimators=200, objective=binary:logistic, silent=True, tree_method=gpu_hist \n",
      "[CV]  alpha=10, colsample_bytree=0.3, eval_metric=auc, learning_rate=0.3, max_depth=7, n_estimators=200, objective=binary:logistic, silent=True, tree_method=gpu_hist, score=0.905, total=   0.7s\n",
      "[CV] alpha=10, colsample_bytree=0.3, eval_metric=auc, learning_rate=0.3, max_depth=7, n_estimators=200, objective=binary:logistic, silent=True, tree_method=gpu_hist \n",
      "[CV]  alpha=10, colsample_bytree=0.3, eval_metric=auc, learning_rate=0.3, max_depth=7, n_estimators=200, objective=binary:logistic, silent=True, tree_method=gpu_hist, score=0.893, total=   0.7s\n",
      "[CV] alpha=10, colsample_bytree=0.3, eval_metric=auc, learning_rate=0.3, max_depth=7, n_estimators=200, objective=binary:logistic, silent=True, tree_method=gpu_hist \n",
      "[CV]  alpha=10, colsample_bytree=0.3, eval_metric=auc, learning_rate=0.3, max_depth=7, n_estimators=200, objective=binary:logistic, silent=True, tree_method=gpu_hist, score=0.880, total=   0.7s\n",
      "[CV] alpha=10, colsample_bytree=0.3, eval_metric=auc, learning_rate=0.4, max_depth=5, n_estimators=100, objective=binary:logistic, silent=True, tree_method=gpu_hist \n",
      "[CV]  alpha=10, colsample_bytree=0.3, eval_metric=auc, learning_rate=0.4, max_depth=5, n_estimators=100, objective=binary:logistic, silent=True, tree_method=gpu_hist, score=0.892, total=   0.4s\n",
      "[CV] alpha=10, colsample_bytree=0.3, eval_metric=auc, learning_rate=0.4, max_depth=5, n_estimators=100, objective=binary:logistic, silent=True, tree_method=gpu_hist \n",
      "[CV]  alpha=10, colsample_bytree=0.3, eval_metric=auc, learning_rate=0.4, max_depth=5, n_estimators=100, objective=binary:logistic, silent=True, tree_method=gpu_hist, score=0.901, total=   0.4s\n",
      "[CV] alpha=10, colsample_bytree=0.3, eval_metric=auc, learning_rate=0.4, max_depth=5, n_estimators=100, objective=binary:logistic, silent=True, tree_method=gpu_hist \n",
      "[CV]  alpha=10, colsample_bytree=0.3, eval_metric=auc, learning_rate=0.4, max_depth=5, n_estimators=100, objective=binary:logistic, silent=True, tree_method=gpu_hist, score=0.889, total=   0.4s\n",
      "[CV] alpha=10, colsample_bytree=0.3, eval_metric=auc, learning_rate=0.4, max_depth=5, n_estimators=100, objective=binary:logistic, silent=True, tree_method=gpu_hist \n",
      "[CV]  alpha=10, colsample_bytree=0.3, eval_metric=auc, learning_rate=0.4, max_depth=5, n_estimators=100, objective=binary:logistic, silent=True, tree_method=gpu_hist, score=0.879, total=   0.4s\n",
      "[CV] alpha=10, colsample_bytree=0.3, eval_metric=auc, learning_rate=0.4, max_depth=5, n_estimators=200, objective=binary:logistic, silent=True, tree_method=gpu_hist \n",
      "[CV]  alpha=10, colsample_bytree=0.3, eval_metric=auc, learning_rate=0.4, max_depth=5, n_estimators=200, objective=binary:logistic, silent=True, tree_method=gpu_hist, score=0.892, total=   0.6s\n",
      "[CV] alpha=10, colsample_bytree=0.3, eval_metric=auc, learning_rate=0.4, max_depth=5, n_estimators=200, objective=binary:logistic, silent=True, tree_method=gpu_hist \n",
      "[CV]  alpha=10, colsample_bytree=0.3, eval_metric=auc, learning_rate=0.4, max_depth=5, n_estimators=200, objective=binary:logistic, silent=True, tree_method=gpu_hist, score=0.901, total=   0.6s\n",
      "[CV] alpha=10, colsample_bytree=0.3, eval_metric=auc, learning_rate=0.4, max_depth=5, n_estimators=200, objective=binary:logistic, silent=True, tree_method=gpu_hist \n",
      "[CV]  alpha=10, colsample_bytree=0.3, eval_metric=auc, learning_rate=0.4, max_depth=5, n_estimators=200, objective=binary:logistic, silent=True, tree_method=gpu_hist, score=0.889, total=   0.5s\n",
      "[CV] alpha=10, colsample_bytree=0.3, eval_metric=auc, learning_rate=0.4, max_depth=5, n_estimators=200, objective=binary:logistic, silent=True, tree_method=gpu_hist \n",
      "[CV]  alpha=10, colsample_bytree=0.3, eval_metric=auc, learning_rate=0.4, max_depth=5, n_estimators=200, objective=binary:logistic, silent=True, tree_method=gpu_hist, score=0.879, total=   0.5s\n",
      "[CV] alpha=10, colsample_bytree=0.3, eval_metric=auc, learning_rate=0.4, max_depth=6, n_estimators=100, objective=binary:logistic, silent=True, tree_method=gpu_hist \n",
      "[CV]  alpha=10, colsample_bytree=0.3, eval_metric=auc, learning_rate=0.4, max_depth=6, n_estimators=100, objective=binary:logistic, silent=True, tree_method=gpu_hist, score=0.897, total=   0.4s\n",
      "[CV] alpha=10, colsample_bytree=0.3, eval_metric=auc, learning_rate=0.4, max_depth=6, n_estimators=100, objective=binary:logistic, silent=True, tree_method=gpu_hist \n",
      "[CV]  alpha=10, colsample_bytree=0.3, eval_metric=auc, learning_rate=0.4, max_depth=6, n_estimators=100, objective=binary:logistic, silent=True, tree_method=gpu_hist, score=0.906, total=   0.4s\n",
      "[CV] alpha=10, colsample_bytree=0.3, eval_metric=auc, learning_rate=0.4, max_depth=6, n_estimators=100, objective=binary:logistic, silent=True, tree_method=gpu_hist \n",
      "[CV]  alpha=10, colsample_bytree=0.3, eval_metric=auc, learning_rate=0.4, max_depth=6, n_estimators=100, objective=binary:logistic, silent=True, tree_method=gpu_hist, score=0.893, total=   0.4s\n",
      "[CV] alpha=10, colsample_bytree=0.3, eval_metric=auc, learning_rate=0.4, max_depth=6, n_estimators=100, objective=binary:logistic, silent=True, tree_method=gpu_hist \n",
      "[CV]  alpha=10, colsample_bytree=0.3, eval_metric=auc, learning_rate=0.4, max_depth=6, n_estimators=100, objective=binary:logistic, silent=True, tree_method=gpu_hist, score=0.879, total=   0.4s\n",
      "[CV] alpha=10, colsample_bytree=0.3, eval_metric=auc, learning_rate=0.4, max_depth=6, n_estimators=200, objective=binary:logistic, silent=True, tree_method=gpu_hist \n",
      "[CV]  alpha=10, colsample_bytree=0.3, eval_metric=auc, learning_rate=0.4, max_depth=6, n_estimators=200, objective=binary:logistic, silent=True, tree_method=gpu_hist, score=0.897, total=   0.6s\n",
      "[CV] alpha=10, colsample_bytree=0.3, eval_metric=auc, learning_rate=0.4, max_depth=6, n_estimators=200, objective=binary:logistic, silent=True, tree_method=gpu_hist \n",
      "[CV]  alpha=10, colsample_bytree=0.3, eval_metric=auc, learning_rate=0.4, max_depth=6, n_estimators=200, objective=binary:logistic, silent=True, tree_method=gpu_hist, score=0.906, total=   0.6s\n",
      "[CV] alpha=10, colsample_bytree=0.3, eval_metric=auc, learning_rate=0.4, max_depth=6, n_estimators=200, objective=binary:logistic, silent=True, tree_method=gpu_hist \n",
      "[CV]  alpha=10, colsample_bytree=0.3, eval_metric=auc, learning_rate=0.4, max_depth=6, n_estimators=200, objective=binary:logistic, silent=True, tree_method=gpu_hist, score=0.893, total=   0.6s\n",
      "[CV] alpha=10, colsample_bytree=0.3, eval_metric=auc, learning_rate=0.4, max_depth=6, n_estimators=200, objective=binary:logistic, silent=True, tree_method=gpu_hist \n",
      "[CV]  alpha=10, colsample_bytree=0.3, eval_metric=auc, learning_rate=0.4, max_depth=6, n_estimators=200, objective=binary:logistic, silent=True, tree_method=gpu_hist, score=0.879, total=   0.6s\n",
      "[CV] alpha=10, colsample_bytree=0.3, eval_metric=auc, learning_rate=0.4, max_depth=7, n_estimators=100, objective=binary:logistic, silent=True, tree_method=gpu_hist \n",
      "[CV]  alpha=10, colsample_bytree=0.3, eval_metric=auc, learning_rate=0.4, max_depth=7, n_estimators=100, objective=binary:logistic, silent=True, tree_method=gpu_hist, score=0.896, total=   0.5s\n",
      "[CV] alpha=10, colsample_bytree=0.3, eval_metric=auc, learning_rate=0.4, max_depth=7, n_estimators=100, objective=binary:logistic, silent=True, tree_method=gpu_hist \n",
      "[CV]  alpha=10, colsample_bytree=0.3, eval_metric=auc, learning_rate=0.4, max_depth=7, n_estimators=100, objective=binary:logistic, silent=True, tree_method=gpu_hist, score=0.903, total=   0.4s\n",
      "[CV] alpha=10, colsample_bytree=0.3, eval_metric=auc, learning_rate=0.4, max_depth=7, n_estimators=100, objective=binary:logistic, silent=True, tree_method=gpu_hist \n",
      "[CV]  alpha=10, colsample_bytree=0.3, eval_metric=auc, learning_rate=0.4, max_depth=7, n_estimators=100, objective=binary:logistic, silent=True, tree_method=gpu_hist, score=0.894, total=   0.4s\n",
      "[CV] alpha=10, colsample_bytree=0.3, eval_metric=auc, learning_rate=0.4, max_depth=7, n_estimators=100, objective=binary:logistic, silent=True, tree_method=gpu_hist \n",
      "[CV]  alpha=10, colsample_bytree=0.3, eval_metric=auc, learning_rate=0.4, max_depth=7, n_estimators=100, objective=binary:logistic, silent=True, tree_method=gpu_hist, score=0.881, total=   0.4s\n",
      "[CV] alpha=10, colsample_bytree=0.3, eval_metric=auc, learning_rate=0.4, max_depth=7, n_estimators=200, objective=binary:logistic, silent=True, tree_method=gpu_hist \n",
      "[CV]  alpha=10, colsample_bytree=0.3, eval_metric=auc, learning_rate=0.4, max_depth=7, n_estimators=200, objective=binary:logistic, silent=True, tree_method=gpu_hist, score=0.896, total=   0.7s\n",
      "[CV] alpha=10, colsample_bytree=0.3, eval_metric=auc, learning_rate=0.4, max_depth=7, n_estimators=200, objective=binary:logistic, silent=True, tree_method=gpu_hist \n",
      "[CV]  alpha=10, colsample_bytree=0.3, eval_metric=auc, learning_rate=0.4, max_depth=7, n_estimators=200, objective=binary:logistic, silent=True, tree_method=gpu_hist, score=0.903, total=   0.7s\n",
      "[CV] alpha=10, colsample_bytree=0.3, eval_metric=auc, learning_rate=0.4, max_depth=7, n_estimators=200, objective=binary:logistic, silent=True, tree_method=gpu_hist \n",
      "[CV]  alpha=10, colsample_bytree=0.3, eval_metric=auc, learning_rate=0.4, max_depth=7, n_estimators=200, objective=binary:logistic, silent=True, tree_method=gpu_hist, score=0.894, total=   0.6s\n",
      "[CV] alpha=10, colsample_bytree=0.3, eval_metric=auc, learning_rate=0.4, max_depth=7, n_estimators=200, objective=binary:logistic, silent=True, tree_method=gpu_hist \n",
      "[CV]  alpha=10, colsample_bytree=0.3, eval_metric=auc, learning_rate=0.4, max_depth=7, n_estimators=200, objective=binary:logistic, silent=True, tree_method=gpu_hist, score=0.881, total=   0.6s\n"
     ]
    },
    {
     "name": "stderr",
     "output_type": "stream",
     "text": [
      "[Parallel(n_jobs=1)]: Done  72 out of  72 | elapsed:   39.5s finished\n"
     ]
    },
    {
     "data": {
      "text/plain": [
       "GridSearchCV(cv=StratifiedKFold(n_splits=4, random_state=1001, shuffle=True),\n",
       "             estimator=XGBClassifier(alpha=10, base_score=0.5, booster=None,\n",
       "                                     colsample_bylevel=1, colsample_bynode=1,\n",
       "                                     colsample_bytree=0.3, eval_metric='auc',\n",
       "                                     gamma=0, gpu_id=0, importance_type='gain',\n",
       "                                     interaction_constraints=None,\n",
       "                                     learning_rate=0.1, max_delta_step=0,\n",
       "                                     max_depth=5, min_child_weight=1,\n",
       "                                     m...\n",
       "                                     scale_pos_weight=1, silent=True,\n",
       "                                     subsample=1, tree_method='gpu_hist',\n",
       "                                     validate_parameters=1, verbosity=None),\n",
       "             n_jobs=1,\n",
       "             param_grid={'alpha': [10], 'colsample_bytree': [0.3],\n",
       "                         'eval_metric': ['auc'],\n",
       "                         'learning_rate': [0.2, 0.3, 0.4],\n",
       "                         'max_depth': [5, 6, 7], 'n_estimators': [100, 200],\n",
       "                         'objective': ['binary:logistic'], 'silent': [True],\n",
       "                         'tree_method': ['gpu_hist']},\n",
       "             scoring='roc_auc', verbose=3)"
      ]
     },
     "execution_count": 54,
     "metadata": {},
     "output_type": "execute_result"
    }
   ],
   "source": [
    "from sklearn.model_selection import StratifiedKFold\n",
    "from sklearn.model_selection import GridSearchCV\n",
    "skf = StratifiedKFold(n_splits=4, shuffle = True, random_state = 1001)\n",
    "\n",
    "params={\n",
    "          'learning_rate': [0.2, 0.3, 0.4],\n",
    "          'colsample_bytree' : [0.3],\n",
    "          'max_depth': [5, 6, 7],\n",
    "          'objective': ['binary:logistic'],\n",
    "          'n_estimators':[100, 200],\n",
    "          'alpha' : [10],\n",
    "          'silent': [True],\n",
    "          'tree_method':['gpu_hist'],\n",
    "          'eval_metric':['auc']}\n",
    "#model = XGBClassifier(**params)\n",
    "#tparams={\n",
    "#          'learning_rate': [0.1, 0.2, 0.3],\n",
    "#          'max_depth': [5, 6, 7]}\n",
    "\n",
    "grid_search = GridSearchCV(model, params, scoring='roc_auc', n_jobs=1, cv=skf, verbose=3)\n",
    "\n",
    "grid_search.fit(train_df[list(range(n_cols))].values.get(), train_df['label'].values.get())"
   ]
  },
  {
   "cell_type": "markdown",
   "metadata": {},
   "source": [
    "After the grid search, the best estimator is recorded at `grid_search.best_estimator_` with the best parameter set `grid_search.best_params_`"
   ]
  },
  {
   "cell_type": "code",
   "execution_count": 55,
   "metadata": {},
   "outputs": [
    {
     "data": {
      "text/plain": [
       "{'alpha': 10,\n",
       " 'colsample_bytree': 0.3,\n",
       " 'eval_metric': 'auc',\n",
       " 'learning_rate': 0.2,\n",
       " 'max_depth': 6,\n",
       " 'n_estimators': 200,\n",
       " 'objective': 'binary:logistic',\n",
       " 'silent': True,\n",
       " 'tree_method': 'gpu_hist'}"
      ]
     },
     "execution_count": 55,
     "metadata": {},
     "output_type": "execute_result"
    }
   ],
   "source": [
    "grid_search.best_params_"
   ]
  },
  {
   "cell_type": "markdown",
   "metadata": {},
   "source": [
    "Let's check the performance on the validation dataset."
   ]
  },
  {
   "cell_type": "code",
   "execution_count": 42,
   "metadata": {},
   "outputs": [
    {
     "data": {
      "text/plain": [
       "0.815843731070787"
      ]
     },
     "execution_count": 42,
     "metadata": {},
     "output_type": "execute_result"
    }
   ],
   "source": [
    "grid_search.best_score_"
   ]
  },
  {
   "cell_type": "code",
   "execution_count": 44,
   "metadata": {},
   "outputs": [],
   "source": [
    "grid_search.best_estimator_.save_model('best.model')"
   ]
  },
  {
   "cell_type": "markdown",
   "metadata": {},
   "source": [
    "## Forest Inference Library\n",
    "\n",
    "The open source Forest Inference Library (FIL) in RAPIDS can accelerate GBDT and RF inference with GPUs. Users can train models as usual in XGBoost or LightGBM, save them to disk, then use FIL to reload those models and apply them to new data. Using FIL, a single V100 GPU can deliver up to 35x more inference throughput than a CPU-only node with 40 cores. For more details, please refer to this [blog](https://medium.com/rapids-ai/rapids-forest-inference-library-prediction-at-100-million-rows-per-second-19558890bc35)."
   ]
  },
  {
   "cell_type": "code",
   "execution_count": 46,
   "metadata": {},
   "outputs": [],
   "source": [
    "from cuml import ForestInference\n",
    "fm = ForestInference.load('best.model', output_class=True)\n",
    "\n",
    "fil_preds_gpu = fm.predict(test)"
   ]
  },
  {
   "cell_type": "code",
   "execution_count": 48,
   "metadata": {},
   "outputs": [
    {
     "data": {
      "text/plain": [
       "numpy.ndarray"
      ]
     },
     "execution_count": 48,
     "metadata": {},
     "output_type": "execute_result"
    }
   ],
   "source": [
    "type(fil_preds_gpu)"
   ]
  },
  {
   "cell_type": "markdown",
   "metadata": {},
   "source": [
    "## Multiple GPU XGBoost\n",
    "\n",
    "\n",
    "### Create a Cluster and Client\n",
    "Let's start by creating a local cluster of workers and a client to interact with that cluster."
   ]
  },
  {
   "cell_type": "code",
   "execution_count": 92,
   "metadata": {},
   "outputs": [
    {
     "name": "stderr",
     "output_type": "stream",
     "text": [
      "/opt/conda/envs/rapids/lib/python3.6/site-packages/distributed/node.py:155: UserWarning: Port 8787 is already in use.\n",
      "Perhaps you already have a cluster running?\n",
      "Hosting the HTTP server on port 33533 instead\n",
      "  http_address[\"port\"], self.http_server.port\n"
     ]
    },
    {
     "data": {
      "text/html": [
       "<table style=\"border: 2px solid white;\">\n",
       "<tr>\n",
       "<td style=\"vertical-align: top; border: 0px solid white\">\n",
       "<h3 style=\"text-align: left;\">Client</h3>\n",
       "<ul style=\"text-align: left; list-style: none; margin: 0; padding: 0;\">\n",
       "  <li><b>Scheduler: </b>tcp://127.0.0.1:33565</li>\n",
       "  <li><b>Dashboard: </b><a href='http://127.0.0.1:33533/status' target='_blank'>http://127.0.0.1:33533/status</a></li>\n",
       "</ul>\n",
       "</td>\n",
       "<td style=\"vertical-align: top; border: 0px solid white\">\n",
       "<h3 style=\"text-align: left;\">Cluster</h3>\n",
       "<ul style=\"text-align: left; list-style:none; margin: 0; padding: 0;\">\n",
       "  <li><b>Workers: </b>4</li>\n",
       "  <li><b>Cores: </b>4</li>\n",
       "  <li><b>Memory: </b>270.39 GB</li>\n",
       "</ul>\n",
       "</td>\n",
       "</tr>\n",
       "</table>"
      ],
      "text/plain": [
       "<Client: 'tcp://127.0.0.1:33565' processes=4 threads=4, memory=270.39 GB>"
      ]
     },
     "execution_count": 92,
     "metadata": {},
     "output_type": "execute_result"
    }
   ],
   "source": [
    "\n",
    "from dask.distributed import Client\n",
    "from dask_cuda import LocalCUDACluster\n",
    "import dask_cudf\n",
    "import dask\n",
    "# create a local CUDA cluster\n",
    "cluster = LocalCUDACluster()\n",
    "client = Client(cluster)\n",
    "client"
   ]
  },
  {
   "cell_type": "code",
   "execution_count": 91,
   "metadata": {},
   "outputs": [
    {
     "name": "stdout",
     "output_type": "stream",
     "text": [
      "Help on function from_cudf in module dask_cudf.core:\n",
      "\n",
      "from_cudf(data, npartitions=None, chunksize=None, sort=True, name=None)\n",
      "    Wraps main-line Dask from_pandas...\n",
      "    \n",
      "    Construct a Dask DataFrame from a Pandas DataFrame\n",
      "    \n",
      "    This splits an in-memory Pandas dataframe into several parts and constructs\n",
      "    a dask.dataframe from those parts on which Dask.dataframe can operate in\n",
      "    parallel.\n",
      "    \n",
      "    Note that, despite parallelism, Dask.dataframe may not always be faster\n",
      "    than Pandas.  We recommend that you stay with Pandas for as long as\n",
      "    possible before switching to Dask.dataframe.\n",
      "    \n",
      "    Parameters\n",
      "    ----------\n",
      "    data : pandas.DataFrame or pandas.Series\n",
      "        The DataFrame/Series with which to construct a Dask DataFrame/Series\n",
      "    npartitions : int, optional\n",
      "        The number of partitions of the index to create. Note that depending on\n",
      "        the size and index of the dataframe, the output may have fewer\n",
      "        partitions than requested.\n",
      "    chunksize : int, optional\n",
      "        The number of rows per index partition to use.\n",
      "    sort: bool\n",
      "        Sort input first to obtain cleanly divided partitions or don't sort and\n",
      "        don't get cleanly divided partitions\n",
      "    name: string, optional\n",
      "        An optional keyname for the dataframe.  Defaults to hashing the input\n",
      "    \n",
      "    Returns\n",
      "    -------\n",
      "    dask.DataFrame or dask.Series\n",
      "        A dask DataFrame/Series partitioned along the index\n",
      "    \n",
      "    Examples\n",
      "    --------\n",
      "    >>> df = pd.DataFrame(dict(a=list('aabbcc'), b=list(range(6))),\n",
      "    ...                   index=pd.date_range(start='20100101', periods=6))\n",
      "    >>> ddf = from_pandas(df, npartitions=3)\n",
      "    >>> ddf.divisions  # doctest: +NORMALIZE_WHITESPACE\n",
      "    (Timestamp('2010-01-01 00:00:00', freq='D'),\n",
      "     Timestamp('2010-01-03 00:00:00', freq='D'),\n",
      "     Timestamp('2010-01-05 00:00:00', freq='D'),\n",
      "     Timestamp('2010-01-06 00:00:00', freq='D'))\n",
      "    >>> ddf = from_pandas(df.a, npartitions=3)  # Works with Series too!\n",
      "    >>> ddf.divisions  # doctest: +NORMALIZE_WHITESPACE\n",
      "    (Timestamp('2010-01-01 00:00:00', freq='D'),\n",
      "     Timestamp('2010-01-03 00:00:00', freq='D'),\n",
      "     Timestamp('2010-01-05 00:00:00', freq='D'),\n",
      "     Timestamp('2010-01-06 00:00:00', freq='D'))\n",
      "    \n",
      "    Raises\n",
      "    ------\n",
      "    TypeError\n",
      "        If something other than a ``pandas.DataFrame`` or ``pandas.Series`` is\n",
      "        passed in.\n",
      "    \n",
      "    See Also\n",
      "    --------\n",
      "    from_array : Construct a dask.DataFrame from an array that has record dtype\n",
      "    read_csv : Construct a dask.DataFrame from a CSV file\n",
      "\n",
      "Help on function from_delayed in module dask.dataframe.io.io:\n",
      "\n",
      "from_delayed(dfs, meta=None, divisions=None, prefix='from-delayed', verify_meta=True)\n",
      "    Create Dask DataFrame from many Dask Delayed objects\n",
      "    \n",
      "    Parameters\n",
      "    ----------\n",
      "    dfs : list of Delayed\n",
      "        An iterable of ``dask.delayed.Delayed`` objects, such as come from\n",
      "        ``dask.delayed`` These comprise the individual partitions of the\n",
      "        resulting dataframe.\n",
      "    meta : pd.DataFrame, pd.Series, dict, iterable, tuple, optional\n",
      "        An empty ``pd.DataFrame`` or ``pd.Series`` that matches the dtypes and\n",
      "        column names of the output. This metadata is necessary for many\n",
      "        algorithms in dask dataframe to work.  For ease of use, some\n",
      "        alternative inputs are also available. Instead of a ``DataFrame``, a\n",
      "        ``dict`` of ``{name: dtype}`` or iterable of ``(name, dtype)`` can be\n",
      "        provided (note that the order of the names should match the order of\n",
      "        the columns). Instead of a series, a tuple of ``(name, dtype)`` can be\n",
      "        used. If not provided, dask will try to infer the metadata. This may\n",
      "        lead to unexpected results, so providing ``meta`` is recommended. For\n",
      "        more information, see ``dask.dataframe.utils.make_meta``.\n",
      "    divisions : tuple, str, optional\n",
      "        Partition boundaries along the index.\n",
      "        For tuple, see https://docs.dask.org/en/latest/dataframe-design.html#partitions\n",
      "        For string 'sorted' will compute the delayed values to find index\n",
      "        values.  Assumes that the indexes are mutually sorted.\n",
      "        If None, then won't use index information\n",
      "    prefix : str, optional\n",
      "        Prefix to prepend to the keys.\n",
      "    verify_meta : bool, optional\n",
      "        If True check that the partitions have consistent metadata, defaults to True.\n",
      "\n"
     ]
    }
   ],
   "source": [
    "help(dask_cudf.from_cudf)\n",
    "help(dask_cudf.from_delayed)"
   ]
  },
  {
   "cell_type": "code",
   "execution_count": 160,
   "metadata": {},
   "outputs": [],
   "source": [
    "length = 10000\n",
    "validation = int(length*0.8)\n",
    "n_cols = 10\n",
    "dfs = [ dask.delayed(simulate_data)(length, n_cols, random_state=i, classification=True) for i in range(4) ]\n",
    "dask_df = dask_cudf.from_delayed(dfs)"
   ]
  },
  {
   "cell_type": "code",
   "execution_count": 166,
   "metadata": {},
   "outputs": [],
   "source": [
    "#dtrain = xgb.DMatrix(dask_df[list(range(20))], dask_df['label'])\n",
    "params={\n",
    "          'learning_rate': 0.1,\n",
    "          'colsample_bytree' : 0.3,\n",
    "          'max_depth': 5,\n",
    "          'num_parallel_tree':1,\n",
    "          'objective': 'binary:logistic',\n",
    "          'alpha' : 10,\n",
    "          'silent': True,\n",
    "          'tree_method':'gpu_hist',\n",
    "          'eval_metric':'auc'}\n",
    "train_feature = dask_df[list(range(n_cols))]\n",
    "train_target = dask_df['label']\n",
    "bst = dask_xgboost.train(client, params, train_feature, train_target, num_boost_round=100)"
   ]
  },
  {
   "cell_type": "code",
   "execution_count": 167,
   "metadata": {},
   "outputs": [
    {
     "data": {
      "text/plain": [
       "0.5020361511453351"
      ]
     },
     "execution_count": 167,
     "metadata": {},
     "output_type": "execute_result"
    }
   ],
   "source": [
    "from sklearn import metrics\n",
    "fpr, tpr, thresholds = metrics.roc_curve(dask_df['label'].compute().to_array(), y_predictions.compute().to_array())\n",
    "metrics.auc(fpr, tpr)"
   ]
  },
  {
   "cell_type": "code",
   "execution_count": null,
   "metadata": {},
   "outputs": [],
   "source": []
  },
  {
   "cell_type": "code",
   "execution_count": 168,
   "metadata": {},
   "outputs": [
    {
     "data": {
      "text/plain": [
       "array([1, 0, 1, ..., 0, 0, 0])"
      ]
     },
     "execution_count": 168,
     "metadata": {},
     "output_type": "execute_result"
    }
   ],
   "source": [
    "dask_df['label'].compute().to_array()"
   ]
  },
  {
   "cell_type": "code",
   "execution_count": 151,
   "metadata": {},
   "outputs": [
    {
     "name": "stdout",
     "output_type": "stream",
     "text": [
      "Help on function train in module dask_xgboost.core:\n",
      "\n",
      "train(client, params, data, labels, dmatrix_kwargs={}, **kwargs)\n",
      "    Train an XGBoost model on a Dask Cluster\n",
      "    \n",
      "    This starts XGBoost on all Dask workers, moves input data to those workers,\n",
      "    and then calls ``xgboost.train`` on the inputs.\n",
      "    \n",
      "    Parameters\n",
      "    ----------\n",
      "    client: dask.distributed.Client\n",
      "    params: dict\n",
      "        Parameters to give to XGBoost (see xgb.Booster.train)\n",
      "    data: dask array or dask.dataframe\n",
      "    labels: dask.array or dask.dataframe\n",
      "    dmatrix_kwargs: Keywords to give to Xgboost DMatrix\n",
      "    **kwargs: Keywords to give to XGBoost train\n",
      "    \n",
      "    Examples\n",
      "    --------\n",
      "    >>> client = Client('scheduler-address:8786')  # doctest: +SKIP\n",
      "    >>> data = dd.read_csv('s3://...')  # doctest: +SKIP\n",
      "    >>> labels = data['outcome']  # doctest: +SKIP\n",
      "    >>> del data['outcome']  # doctest: +SKIP\n",
      "    >>> train(client, params, data, labels, **normal_kwargs)  # doctest: +SKIP\n",
      "    <xgboost.core.Booster object at ...>\n",
      "    \n",
      "    See Also\n",
      "    --------\n",
      "    predict\n",
      "\n"
     ]
    }
   ],
   "source": [
    "help(dask_xgboost.train)"
   ]
  },
  {
   "cell_type": "code",
   "execution_count": 174,
   "metadata": {},
   "outputs": [],
   "source": [
    "import dask_ml.datasets"
   ]
  },
  {
   "cell_type": "code",
   "execution_count": 181,
   "metadata": {},
   "outputs": [
    {
     "ename": "TypeError",
     "evalue": "__call__() got an unexpected keyword argument 'chunks'",
     "output_type": "error",
     "traceback": [
      "\u001b[0;31m---------------------------------------------------------------------------\u001b[0m",
      "\u001b[0;31mTypeError\u001b[0m                                 Traceback (most recent call last)",
      "\u001b[0;32m<ipython-input-181-1515b540f189>\u001b[0m in \u001b[0;36m<module>\u001b[0;34m\u001b[0m\n\u001b[0;32m----> 1\u001b[0;31m \u001b[0mhelp\u001b[0m\u001b[0;34m(\u001b[0m\u001b[0mdask_ml\u001b[0m\u001b[0;34m.\u001b[0m\u001b[0mdatasets\u001b[0m\u001b[0;34m.\u001b[0m\u001b[0mmake_classification_df\u001b[0m\u001b[0;34m,\u001b[0m\u001b[0mchunks\u001b[0m\u001b[0;34m=\u001b[0m\u001b[0;36m10\u001b[0m\u001b[0;34m)\u001b[0m\u001b[0;34m\u001b[0m\u001b[0;34m\u001b[0m\u001b[0m\n\u001b[0m",
      "\u001b[0;32m~opt/conda/envs/rapids/lib/python3.6/_sitebuiltins.py\u001b[0m in \u001b[0;36m__call__\u001b[0;34m(self, *args, **kwds)\u001b[0m\n\u001b[1;32m    101\u001b[0m     \u001b[0;32mdef\u001b[0m \u001b[0m__call__\u001b[0m\u001b[0;34m(\u001b[0m\u001b[0mself\u001b[0m\u001b[0;34m,\u001b[0m \u001b[0;34m*\u001b[0m\u001b[0margs\u001b[0m\u001b[0;34m,\u001b[0m \u001b[0;34m**\u001b[0m\u001b[0mkwds\u001b[0m\u001b[0;34m)\u001b[0m\u001b[0;34m:\u001b[0m\u001b[0;34m\u001b[0m\u001b[0;34m\u001b[0m\u001b[0m\n\u001b[1;32m    102\u001b[0m         \u001b[0;32mimport\u001b[0m \u001b[0mpydoc\u001b[0m\u001b[0;34m\u001b[0m\u001b[0;34m\u001b[0m\u001b[0m\n\u001b[0;32m--> 103\u001b[0;31m         \u001b[0;32mreturn\u001b[0m \u001b[0mpydoc\u001b[0m\u001b[0;34m.\u001b[0m\u001b[0mhelp\u001b[0m\u001b[0;34m(\u001b[0m\u001b[0;34m*\u001b[0m\u001b[0margs\u001b[0m\u001b[0;34m,\u001b[0m \u001b[0;34m**\u001b[0m\u001b[0mkwds\u001b[0m\u001b[0;34m)\u001b[0m\u001b[0;34m\u001b[0m\u001b[0;34m\u001b[0m\u001b[0m\n\u001b[0m",
      "\u001b[0;31mTypeError\u001b[0m: __call__() got an unexpected keyword argument 'chunks'"
     ]
    }
   ],
   "source": [
    "help(dask_ml.datasets.make_classification_df)"
   ]
  },
  {
   "cell_type": "code",
   "execution_count": 203,
   "metadata": {},
   "outputs": [],
   "source": [
    "import dask_ml.datasets\n",
    "length = 10000\n",
    "train_frac = 0.8\n",
    "chunks = 100\n",
    "validation_chunks = int(train_frac * chunks)\n",
    "df = dask_ml.datasets.make_classification_df(n_samples=length, chunks=chunks)"
   ]
  },
  {
   "cell_type": "code",
   "execution_count": 205,
   "metadata": {},
   "outputs": [],
   "source": [
    "delayed_x_chunks = df[0].to_delayed()\n",
    "delayed_y_chunks = df[1].to_delayed()\n",
    "train_x_dask_df = dask_cudf.from_delayed(delayed_x_chunks[:validation_chunks])\n",
    "train_y_dask_df = dask_cudf.from_delayed(delayed_y_chunks[:validation_chunks])\n",
    "val_x_dask_df = dask_cudf.from_delayed(delayed_x_chunks[validation_chunks:])\n",
    "val_y_dask_df = dask_cudf.from_delayed(delayed_y_chunks[validation_chunks:])"
   ]
  },
  {
   "cell_type": "code",
   "execution_count": 207,
   "metadata": {},
   "outputs": [
    {
     "data": {
      "text/plain": [
       "(8000, 2000)"
      ]
     },
     "execution_count": 207,
     "metadata": {},
     "output_type": "execute_result"
    }
   ],
   "source": [
    "len(train_x_dask_df), len(val_x_dask_df)"
   ]
  },
  {
   "cell_type": "code",
   "execution_count": 208,
   "metadata": {},
   "outputs": [],
   "source": [
    "#dtrain = xgb.DMatrix(dask_df[list(range(20))], dask_df['label'])\n",
    "params={\n",
    "          'learning_rate': 0.1,\n",
    "          'colsample_bytree' : 0.3,\n",
    "          'max_depth': 5,\n",
    "          'num_parallel_tree':1,\n",
    "          'objective': 'binary:logistic',\n",
    "          'alpha' : 10,\n",
    "          'silent': True,\n",
    "          'tree_method':'gpu_hist',\n",
    "          'eval_metric':'auc'}\n",
    "bst = dask_xgboost.train(client, params, train_x_dask_df, train_y_dask_df, num_boost_round=100)"
   ]
  },
  {
   "cell_type": "code",
   "execution_count": 219,
   "metadata": {},
   "outputs": [
    {
     "data": {
      "image/png": "[encoded data removed]",
      "text/plain": [
       "<Figure size 360x360 with 1 Axes>"
      ]
     },
     "metadata": {
      "needs_background": "light"
     },
     "output_type": "display_data"
    },
    {
     "data": {
      "text/plain": [
       "0.7907112438445394"
      ]
     },
     "execution_count": 219,
     "metadata": {},
     "output_type": "execute_result"
    }
   ],
   "source": [
    "from sklearn import metrics\n",
    "y_predictions = dask_xgboost.predict(client, bst, train_x_dask_df)\n",
    "train_y_dask_df.compute()\n",
    "y_predictions.compute()\n",
    "fpr, tpr, thresholds = metrics.roc_curve(train_y_dask_df.compute(), y_predictions.compute())\n",
    "\n",
    "fig, ax = plt.subplots(figsize=(5, 5))\n",
    "ax.plot(fpr, tpr, lw=3,\n",
    "        label='ROC Curve (area = {:.2f})'.format(metrics.auc(fpr, tpr)))\n",
    "ax.plot([0, 1], [0, 1], 'k--', lw=2)\n",
    "ax.set(\n",
    "    xlim=(0, 1),\n",
    "    ylim=(0, 1),\n",
    "    title=\"ROC Curve\",\n",
    "    xlabel=\"False Positive Rate\",\n",
    "    ylabel=\"True Positive Rate\",\n",
    ")\n",
    "ax.legend();\n",
    "plt.show()"
   ]
  },
  {
   "cell_type": "code",
   "execution_count": 220,
   "metadata": {},
   "outputs": [
    {
     "data": {
      "image/png": "[encoded data removed]",
      "text/plain": [
       "<Figure size 360x360 with 1 Axes>"
      ]
     },
     "metadata": {
      "needs_background": "light"
     },
     "output_type": "display_data"
    }
   ],
   "source": [
    "from sklearn import metrics\n",
    "y_predictions = dask_xgboost.predict(client, bst, val_x_dask_df)\n",
    "train_y_dask_df.compute()\n",
    "y_predictions.compute()\n",
    "fpr, tpr, thresholds = metrics.roc_curve(val_y_dask_df.compute(), y_predictions.compute())\n",
    "\n",
    "fig, ax = plt.subplots(figsize=(5, 5))\n",
    "ax.plot(fpr, tpr, lw=3,\n",
    "        label='ROC Curve (area = {:.2f})'.format(metrics.auc(fpr, tpr)))\n",
    "ax.plot([0, 1], [0, 1], 'k--', lw=2)\n",
    "ax.set(\n",
    "    xlim=(0, 1),\n",
    "    ylim=(0, 1),\n",
    "    title=\"ROC Curve\",\n",
    "    xlabel=\"False Positive Rate\",\n",
    "    ylabel=\"True Positive Rate\",\n",
    ")\n",
    "ax.legend();\n",
    "plt.show()"
   ]
  },
  {
   "cell_type": "code",
   "execution_count": 221,
   "metadata": {},
   "outputs": [
    {
     "data": {
      "image/png": "[encoded data removed]",
      "text/plain": [
       "<Figure size 432x288 with 1 Axes>"
      ]
     },
     "metadata": {
      "needs_background": "light"
     },
     "output_type": "display_data"
    }
   ],
   "source": [
    "%matplotlib inline\n",
    "import matplotlib.pyplot as plt\n",
    "\n",
    "ax = xgb.plot_importance(bst, height=0.8, max_num_features=20)\n",
    "ax.grid(False, axis=\"y\")\n",
    "ax.set_title('Estimated feature importance')\n",
    "plt.show()"
   ]
  },
  {
   "cell_type": "code",
   "execution_count": 226,
   "metadata": {},
   "outputs": [
    {
     "ename": "AttributeError",
     "evalue": "type object 'DaskClassificationMixin' has no attribute 'get_params'",
     "output_type": "error",
     "traceback": [
      "\u001b[0;31m---------------------------------------------------------------------------\u001b[0m",
      "\u001b[0;31mAttributeError\u001b[0m                            Traceback (most recent call last)",
      "\u001b[0;32m<ipython-input-226-de455525b352>\u001b[0m in \u001b[0;36m<module>\u001b[0;34m\u001b[0m\n\u001b[1;32m     23\u001b[0m \u001b[0;34m\u001b[0m\u001b[0m\n\u001b[1;32m     24\u001b[0m \u001b[0mestimator\u001b[0m \u001b[0;34m=\u001b[0m \u001b[0mXGBClassifier\u001b[0m\u001b[0;34m(\u001b[0m\u001b[0mparams\u001b[0m\u001b[0;34m)\u001b[0m\u001b[0;34m\u001b[0m\u001b[0;34m\u001b[0m\u001b[0m\n\u001b[0;32m---> 25\u001b[0;31m \u001b[0mestimator\u001b[0m\u001b[0;34m.\u001b[0m\u001b[0mfit\u001b[0m\u001b[0;34m(\u001b[0m\u001b[0mtrain_x_dask_df\u001b[0m\u001b[0;34m,\u001b[0m \u001b[0mtrain_y_dask_df\u001b[0m\u001b[0;34m)\u001b[0m\u001b[0;34m\u001b[0m\u001b[0;34m\u001b[0m\u001b[0m\n\u001b[0m\u001b[1;32m     26\u001b[0m \u001b[0;31m#grid_search = GridSearchCV(\u001b[0m\u001b[0;34m\u001b[0m\u001b[0;34m\u001b[0m\u001b[0;34m\u001b[0m\u001b[0m\n\u001b[1;32m     27\u001b[0m \u001b[0;31m#    estimator,\u001b[0m\u001b[0;34m\u001b[0m\u001b[0;34m\u001b[0m\u001b[0;34m\u001b[0m\u001b[0m\n",
      "\u001b[0;32m~opt/conda/envs/rapids/lib/python3.6/site-packages/dask_xgboost/core.py\u001b[0m in \u001b[0;36mfit\u001b[0;34m(self, X, y, classes)\u001b[0m\n\u001b[1;32m    381\u001b[0m         \u001b[0mself\u001b[0m\u001b[0;34m.\u001b[0m\u001b[0mn_classes_\u001b[0m \u001b[0;34m=\u001b[0m \u001b[0mlen\u001b[0m\u001b[0;34m(\u001b[0m\u001b[0mself\u001b[0m\u001b[0;34m.\u001b[0m\u001b[0mclasses_\u001b[0m\u001b[0;34m)\u001b[0m\u001b[0;34m\u001b[0m\u001b[0;34m\u001b[0m\u001b[0m\n\u001b[1;32m    382\u001b[0m \u001b[0;34m\u001b[0m\u001b[0m\n\u001b[0;32m--> 383\u001b[0;31m         \u001b[0mxgb_options\u001b[0m \u001b[0;34m=\u001b[0m \u001b[0mself\u001b[0m\u001b[0;34m.\u001b[0m\u001b[0mget_xgb_params\u001b[0m\u001b[0;34m(\u001b[0m\u001b[0;34m)\u001b[0m\u001b[0;34m\u001b[0m\u001b[0;34m\u001b[0m\u001b[0m\n\u001b[0m\u001b[1;32m    384\u001b[0m \u001b[0;34m\u001b[0m\u001b[0m\n\u001b[1;32m    385\u001b[0m         \u001b[0;32mif\u001b[0m \u001b[0mself\u001b[0m\u001b[0;34m.\u001b[0m\u001b[0mn_classes_\u001b[0m \u001b[0;34m>\u001b[0m \u001b[0;36m2\u001b[0m\u001b[0;34m:\u001b[0m\u001b[0;34m\u001b[0m\u001b[0;34m\u001b[0m\u001b[0m\n",
      "\u001b[0;32m~opt/conda/envs/rapids/lib/python3.6/site-packages/xgboost/sklearn.py\u001b[0m in \u001b[0;36mget_xgb_params\u001b[0;34m(self)\u001b[0m\n\u001b[1;32m    353\u001b[0m     \u001b[0;32mdef\u001b[0m \u001b[0mget_xgb_params\u001b[0m\u001b[0;34m(\u001b[0m\u001b[0mself\u001b[0m\u001b[0;34m)\u001b[0m\u001b[0;34m:\u001b[0m\u001b[0;34m\u001b[0m\u001b[0;34m\u001b[0m\u001b[0m\n\u001b[1;32m    354\u001b[0m         \u001b[0;34m\"\"\"Get xgboost type parameters.\"\"\"\u001b[0m\u001b[0;34m\u001b[0m\u001b[0;34m\u001b[0m\u001b[0m\n\u001b[0;32m--> 355\u001b[0;31m         \u001b[0mxgb_params\u001b[0m \u001b[0;34m=\u001b[0m \u001b[0mself\u001b[0m\u001b[0;34m.\u001b[0m\u001b[0mget_params\u001b[0m\u001b[0;34m(\u001b[0m\u001b[0;34m)\u001b[0m\u001b[0;34m\u001b[0m\u001b[0;34m\u001b[0m\u001b[0m\n\u001b[0m\u001b[1;32m    356\u001b[0m         \u001b[0;32mreturn\u001b[0m \u001b[0mxgb_params\u001b[0m\u001b[0;34m\u001b[0m\u001b[0;34m\u001b[0m\u001b[0m\n\u001b[1;32m    357\u001b[0m \u001b[0;34m\u001b[0m\u001b[0m\n",
      "\u001b[0;32m~opt/conda/envs/rapids/lib/python3.6/site-packages/xgboost/sklearn.py\u001b[0m in \u001b[0;36mget_params\u001b[0;34m(self, deep)\u001b[0m\n\u001b[1;32m    313\u001b[0m         \u001b[0mcp\u001b[0m \u001b[0;34m=\u001b[0m \u001b[0mcopy\u001b[0m\u001b[0;34m.\u001b[0m\u001b[0mcopy\u001b[0m\u001b[0;34m(\u001b[0m\u001b[0mself\u001b[0m\u001b[0;34m)\u001b[0m\u001b[0;34m\u001b[0m\u001b[0;34m\u001b[0m\u001b[0m\n\u001b[1;32m    314\u001b[0m         \u001b[0mcp\u001b[0m\u001b[0;34m.\u001b[0m\u001b[0m__class__\u001b[0m \u001b[0;34m=\u001b[0m \u001b[0mcp\u001b[0m\u001b[0;34m.\u001b[0m\u001b[0m__class__\u001b[0m\u001b[0;34m.\u001b[0m\u001b[0m__bases__\u001b[0m\u001b[0;34m[\u001b[0m\u001b[0;36m0\u001b[0m\u001b[0;34m]\u001b[0m\u001b[0;34m\u001b[0m\u001b[0;34m\u001b[0m\u001b[0m\n\u001b[0;32m--> 315\u001b[0;31m         \u001b[0mparams\u001b[0m\u001b[0;34m.\u001b[0m\u001b[0mupdate\u001b[0m\u001b[0;34m(\u001b[0m\u001b[0mcp\u001b[0m\u001b[0;34m.\u001b[0m\u001b[0m__class__\u001b[0m\u001b[0;34m.\u001b[0m\u001b[0mget_params\u001b[0m\u001b[0;34m(\u001b[0m\u001b[0mcp\u001b[0m\u001b[0;34m,\u001b[0m \u001b[0mdeep\u001b[0m\u001b[0;34m)\u001b[0m\u001b[0;34m)\u001b[0m\u001b[0;34m\u001b[0m\u001b[0;34m\u001b[0m\u001b[0m\n\u001b[0m\u001b[1;32m    316\u001b[0m         \u001b[0;31m# if kwargs is a dict, update params accordingly\u001b[0m\u001b[0;34m\u001b[0m\u001b[0;34m\u001b[0m\u001b[0;34m\u001b[0m\u001b[0m\n\u001b[1;32m    317\u001b[0m         \u001b[0;32mif\u001b[0m \u001b[0misinstance\u001b[0m\u001b[0;34m(\u001b[0m\u001b[0mself\u001b[0m\u001b[0;34m.\u001b[0m\u001b[0mkwargs\u001b[0m\u001b[0;34m,\u001b[0m \u001b[0mdict\u001b[0m\u001b[0;34m)\u001b[0m\u001b[0;34m:\u001b[0m\u001b[0;34m\u001b[0m\u001b[0;34m\u001b[0m\u001b[0m\n",
      "\u001b[0;31mAttributeError\u001b[0m: type object 'DaskClassificationMixin' has no attribute 'get_params'"
     ]
    }
   ],
   "source": []
  },
  {
   "cell_type": "code",
   "execution_count": null,
   "metadata": {},
   "outputs": [],
   "source": []
  }
 ],
 "metadata": {
  "kernelspec": {
   "display_name": "Python 3",
   "language": "python",
   "name": "python3"
  },
  "language_info": {
   "codemirror_mode": {
    "name": "ipython",
    "version": 3
   },
   "file_extension": ".py",
   "mimetype": "text/x-python",
   "name": "python",
   "nbconvert_exporter": "python",
   "pygments_lexer": "ipython3",
   "version": "3.6.10"
  }
 },
 "nbformat": 4,
 "nbformat_minor": 4
}
